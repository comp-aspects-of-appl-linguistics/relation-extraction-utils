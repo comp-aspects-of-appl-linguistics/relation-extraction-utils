{
  "cells": [
    {
      "cell_type": "markdown",
      "metadata": {
        "id": "view-in-github",
        "colab_type": "text"
      },
      "source": [
        "<a href=\"https://colab.research.google.com/github/comp-aspects-of-appl-linguistics/relation-extraction-utils/blob/master/count_trigger_paths/view_path_stats.ipynb\" target=\"_parent\"><img src=\"https://colab.research.google.com/assets/colab-badge.svg\" alt=\"Open In Colab\"/></a>"
      ]
    },
    {
      "cell_type": "code",
      "execution_count": null,
      "metadata": {
        "id": "-40enUPOfxqx",
        "colab_type": "code",
        "colab": {
          "base_uri": "https://localhost:8080/",
          "height": 181
        },
        "outputId": "bb521681-c74c-43ea-ad1f-032da4893561"
      },
      "outputs": [],
      "source": [
        "# executing pip with the --no-deps flag, as we don't need the stanfordnlp dependency to run the count trigger paths\n",
        "# (thats because the dependencies already appear in the cvs input file)\n",
        "!pip install -U --no-deps git+https://github.com/comp-aspects-of-appl-linguistics/relation_extraction_utils.git"
      ]
    },
    {
      "cell_type": "code",
      "execution_count": null,
      "metadata": {
        "id": "UhGfZesIg3oB",
        "colab_type": "code",
        "colab": {
          "resources": {},
          "base_uri": "https://localhost:8080/",
          "height": 93
        },
        "outputId": "28afaea3-04c8-4b53-ffac-c5917128e397"
      },
      "outputs": [],
      "source": [
        "from google.colab import files\n",
        "\n",
        "files.upload()"
      ]
    },
    {
      "cell_type": "code",
      "execution_count": null,
      "metadata": {
        "id": "PGOIwmWk-YJA",
        "colab_type": "code",
        "colab": {}
      },
      "outputs": [],
      "source": [
        "from count_trigger_paths.path_stats import PathStats, PathDesignation\n",
        "\n",
        "pathstats = PathStats('./per_employee_of.csv')"
      ]
    },
    {
      "metadata": {
        "id": "J2IMW_Zm9S52",
        "colab_type": "code",
        "outputId": "8019b9e1-7187-4bdd-f307-256c28b636b6",
        "colab": {
          "base_uri": "https://localhost:8080/",
          "height": 1829
        }
      },
      "cell_type": "code",
      "source": [
        "%matplotlib inline\n",
        "\n",
        "import matplotlib.pyplot as plot\n",
        "\n",
        "for path_designation in PathDesignation:\n",
        "    stats = pathstats.get_sorted_stats(path_designation)\n",
        "\n",
        "    plot.figure( figsize=(12, 10) )\n",
        "    plot.title(path_designation.value)\n",
        "    plot.xlabel('frequency')\n",
        "    plot.ylabel('path')\n",
        "    plot.barh([path for _, path in stats], [frequency for frequency, _ in stats])\n",
        "\n",
        "plot.show()"
      ],
      "execution_count": null,
      "outputs": []
    }
  ],
  "metadata": {
    "colab": {
      "name": "view_path_stats.ipynb",
      "version": "0.3.2",
      "provenance": [],
      "collapsed_sections": [],
      "include_colab_link": true
    },
    "kernelspec": {
      "name": "python3",
      "display_name": "Python 3"
    }
  },
  "nbformat": 4,
  "nbformat_minor": 0
}