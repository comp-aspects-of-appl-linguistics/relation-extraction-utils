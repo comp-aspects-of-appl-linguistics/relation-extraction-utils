{
 "cells": [
  {
   "cell_type": "markdown",
   "metadata": {
    "id": "view-in-github",
    "colab_type": "text"
   },
   "source": [
    "<a href=\"https://colab.research.google.com/github/comp-aspects-of-appl-linguistics/relation-extraction-utils/blob/master/prepare_data_for_trigger_identification.ipynb\" target=\"_parent\"><img src=\"https://colab.research.google.com/assets/colab-badge.svg\" alt=\"Open In Colab\"/></a>"
   ]
  },
  {
   "cell_type": "code",
   "execution_count": null,
   "metadata": {
    "id": "3DJ_2q9odvu7",
    "colab_type": "code",
    "colab": {}
   },
   "outputs": [],
   "source": [
    "#### PRERATIONS:\n",
    "\n",
    "# STEP 1: ensure 'relation_extraction_utils' is installed - as stanfordnlp is \n",
    "#         a dependency of 'relation_extraction_utils' it will be installed if \n",
    "#         necessary.\n",
    "#         Additionally, stanfordnlp_resources are downloaded if nt alread present\n",
    "!pip install git+https://github.com/comp-aspects-of-appl-linguistics/relation_extraction_utils.git\n",
    "\n",
    "import os\n",
    "import stanfordnlp\n",
    "\n",
    "if not os.path.exists('/root/stanfordnlp_resources'):\n",
    "  stanfordnlp.download('en', force=True)\n",
    "\n",
    "  \n",
    "# STEP 2: we'll need to access Google Drive to fetch the 'train.json' file -\n",
    "#         at the end of the next snippet will be promted to click a link from\n",
    "#         which the user will be able to generate an Oath token to be copied \n",
    "#         at the prompt\n",
    "  \n",
    "!pip install PyDrive\n",
    "\n",
    "from pydrive.auth import GoogleAuth\n",
    "from pydrive.drive import GoogleDrive\n",
    "from google.colab import auth\n",
    "from oauth2client.client import GoogleCredentials\n",
    "\n",
    "\n",
    "# Authenticate and create the PyDrive client.\n",
    "auth.authenticate_user()\n",
    "gauth = GoogleAuth()\n",
    "gauth.credentials = GoogleCredentials.get_application_default()\n",
    "drive = GoogleDrive(gauth)\n",
    "\n",
    "\n",
    "# NOTE: The id of the file assigned to 'train.json' may change\n",
    "drive_id_for_train_json_file='1nPpp1zs3_0rkPkCvuz-dSK4YygxO6lw1'\n",
    "\n",
    "# get the file into our current environment's file system\n",
    "downloaded = drive.CreateFile({'id':drive_id_for_train_json_file}) \n",
    "downloaded.GetContentFile('train.json')  "
   ]
  },
  {
   "cell_type": "code",
   "execution_count": null,
   "metadata": {
    "id": "HdDErSPqf6je",
    "colab_type": "code",
    "colab": {}
   },
   "outputs": [],
   "source": [
    "#### This is where the work happens:\n",
    "\n",
    "# OUTCOME: output.csv file is generated in the current directory.\n",
    "#          it has the following columns populated columns:\n",
    "#               1) counter\n",
    "#               2) sentence\n",
    "#               3) ent1 (the text representation)\n",
    "#               4) ent2 (the text representation)\n",
    "#               5) dependency parse\n",
    "#               6) index lookup\n",
    "#          and the following empty ones: \n",
    "#               7) trigger (single word)\n",
    "#               8) trigger_idx\n",
    "#               9) ent1_start\n",
    "#              10) ent1_end\n",
    "#              11) ent2_start\n",
    "#              12) ent2_end\n",
    "#              13) comments\n",
    "\n",
    "\n",
    "from prepare_for_trigger_identification.cvs_file import generate_csv_file\n",
    "\n",
    "input_path = './train.json'\n",
    "relation_name = 'per:employee_of'\n",
    "output_path = './output.csv'\n",
    "\n",
    "generate_csv_file(input_path, relation_name, output_path)\n",
    "\n"
   ]
  },
  {
   "cell_type": "code",
   "execution_count": null,
   "metadata": {
    "id": "-wgkXHYh6-Ja",
    "colab_type": "code",
    "outputId": "5c45eadb-a5bf-431a-cc51-253b1aae409a",
    "colab": {
     "base_uri": "https://localhost:8080/",
     "height": 786926.0
    }
   },
   "outputs": [],
   "source": [
    "# Use this cell to expose the output.cvs file. The output can be copied and pasted\n",
    "# into a local file for further processing\n",
    "\n",
    "!cat output.csv"
   ]
  }
 ],
 "metadata": {
  "colab": {
   "name": "prepare-data-for-trigger-identification.ipynb",
   "version": "0.3.2",
   "provenance": [],
   "collapsed_sections": [],
   "include_colab_link": true
  },
  "kernelspec": {
   "name": "python3",
   "display_name": "Python 3"
  },
  "accelerator": "GPU"
 },
 "nbformat": 4,
 "nbformat_minor": 0
}
