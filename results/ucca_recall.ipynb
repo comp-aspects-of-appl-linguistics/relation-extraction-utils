{
  "nbformat": 4,
  "nbformat_minor": 0,
  "metadata": {
    "colab": {
      "name": "ucca_recall.ipynb",
      "version": "0.3.2",
      "provenance": [],
      "include_colab_link": true
    },
    "kernelspec": {
      "name": "python3",
      "display_name": "Python 3"
    }
  },
  "cells": [
    {
      "cell_type": "markdown",
      "metadata": {
        "id": "view-in-github",
        "colab_type": "text"
      },
      "source": [
        "<a href=\"https://colab.research.google.com/github/comp-aspects-of-appl-linguistics/relation-extraction-utils/blob/master/results/ucca_recall.ipynb\" target=\"_parent\"><img src=\"https://colab.research.google.com/assets/colab-badge.svg\" alt=\"Open In Colab\"/></a>"
      ]
    },
    {
      "cell_type": "code",
      "metadata": {
        "id": "7xyejnM1-Ehh",
        "colab_type": "code",
        "colab": {}
      },
      "source": [
        "# download ucca/tupa modules\n",
        "\n",
        "!git clone https://github.com/danielhers/ucca.git\n",
        "!pip install -e /content/ucca\n",
        "!git clone https://github.com/OfirArviv/tupa.git\n",
        "!cd /content/tupa; git checkout -b  remotes/origin/elmo_weighted_w_special_tokens_to_lstm_mlp\n",
        "!pip install -e /content/tupa"
      ],
      "execution_count": 0,
      "outputs": []
    },
    {
      "cell_type": "code",
      "metadata": {
        "id": "XJOKu1QIOn3x",
        "colab_type": "code",
        "colab": {}
      },
      "source": [
        "# download spacy (required for tupa)\n",
        "\n",
        "!python -m spacy download en_core_web_md"
      ],
      "execution_count": 0,
      "outputs": []
    },
    {
      "cell_type": "code",
      "metadata": {
        "id": "W3U5XFJKOqWD",
        "colab_type": "code",
        "colab": {}
      },
      "source": [
        "# download elmo (including first download of gdrive)\n",
        "\n",
        "!wget -O /tmp/gdrive https://docs.google.com/uc?id=0B3X9GlR6EmbnWksyTEtCM0VfaFE&export=download\n",
        "!chmod +x /tmp/gdrive\n",
        "!/tmp/gdrive download -r 1Lg2nnocplvi37TJe9rP3Tduh98urUKNx\n",
        "!mkdir /content/tupa/models\n",
        "!mv elmo_4_test_sentences_1 /content/tupa/models/"
      ],
      "execution_count": 0,
      "outputs": []
    },
    {
      "cell_type": "code",
      "metadata": {
        "id": "aVwj0B4VOr8L",
        "colab_type": "code",
        "colab": {}
      },
      "source": [
        "# install our utilities\n",
        "\n",
        "!pip install -U git+https://github.com/comp-aspects-of-appl-linguistics/relation_extraction_utils.git"
      ],
      "execution_count": 0,
      "outputs": []
    },
    {
      "cell_type": "code",
      "metadata": {
        "id": "j8jXEeWnOutL",
        "colab_type": "code",
        "outputId": "b95d39c0-40c5-4f0e-b7cb-fb214310f89e",
        "colab": {
          "base_uri": "https://localhost:8080/",
          "height": 53
        }
      },
      "source": [
        "# download dev.json (whose ID is 1oubGm7qm92HVPARhGLUffiXNkYmC1IkQ)\n",
        "\n",
        "!/tmp/gdrive download 1oubGm7qm92HVPARhGLUffiXNkYmC1IkQ"
      ],
      "execution_count": 0,
      "outputs": [
        {
          "output_type": "stream",
          "text": [
            "Downloading dev.json -> dev.json\n",
            "Downloaded 1oubGm7qm92HVPARhGLUffiXNkYmC1IkQ at 34.1 MB/s, total 34.1 MB\n"
          ],
          "name": "stdout"
        }
      ]
    },
    {
      "cell_type": "code",
      "metadata": {
        "id": "EGAcZ_jEQZYZ",
        "colab_type": "code",
        "colab": {}
      },
      "source": [
        "# get the ucca-parsed entries for the relation 'org:founded_by' into a file called org:founded_by_ucca.csv\n",
        "\n",
        "!tac_to_csv --input dev.json --relation org:founded_by > org:founded_by.csv\n",
        "!parse_ucca --input ./org:founded_by.csv --output ./org:founded_by_ucca.csv /content/tupa/models/elmo_4_test_sentences_1/elmo_4_test_sentences_1 "
      ],
      "execution_count": 0,
      "outputs": []
    },
    {
      "cell_type": "code",
      "metadata": {
        "id": "RGHco_ODSPZY",
        "colab_type": "code",
        "colab": {}
      },
      "source": [
        "%%bash\n",
        "\n",
        "cat > triggers << EOF\n",
        "create\n",
        "find\n",
        "launch\n",
        "found\n",
        "s\n",
        "'s\n",
        "build\n",
        "her\n",
        "his\n",
        "co-founder\n",
        "start\n",
        "establish\n",
        "set\n",
        "founder\n",
        "set up\n",
        "form\n",
        "EOF"
      ],
      "execution_count": 0,
      "outputs": []
    },
    {
      "cell_type": "code",
      "metadata": {
        "id": "I8YrozZxSY8T",
        "colab_type": "code",
        "colab": {}
      },
      "source": [
        "%%bash\n",
        "\n",
        "cat > paths << \"EOF\"\n",
        "^C ^A !P >< ^P !A\n",
        "^E ^A !S >< ^S !A\n",
        "^C !E !E !P >< ^P !A !C\n",
        "^E !E >< \n",
        "^C ^E !C >< ^C ^A !A\n",
        "^C !E !R >< ^R !C\n",
        "^A !P >< ^P ^E !C\n",
        "^C ^E !C >< ^C ^E !C\n",
        "^C ^A !P >< ^P ^E !C\n",
        "^E !C >< ^C ^E !C\n",
        "^C ^A ^H !H !P >< ^P !A !C\n",
        "^C ^E !C !C >< ^C ^C ^A !A\n",
        "^C ^E !E >< ^E ^A !A !A !C\n",
        "^C ^A !A !E !E >< ^E !C\n",
        "^A !P >< ^P ^E ^E !C\n",
        "^A !A !E >< \n",
        "^C !E !E !P >< ^P ^E ^E ^A !A ^A !A\n",
        "^E ^A !P >< ^P !A\n",
        "^C ^A !P >< ^P !A !E !A !C\n",
        "^C ^A !P >< ^P !A !C\n",
        "^C ^E !C >< ^C ^C !C !A !C\n",
        "^C !E >< \n",
        "^A !P >< ^P !A !C\n",
        "^A !P >< ^P ^A !A\n",
        "^E ^A !P >< ^P ^H !H !A !C\n",
        "^C !E !E !P >< ^P !A\n",
        "^C ^E !E >< ^E ^E !C\n",
        "^C ^E !C >< ^C ^A !A !C\n",
        "^C ^E !E >< ^E !C\n",
        "^E !C >< ^C ^A !A\n",
        "^C !P >< ^P !A !C\n",
        "^E ^A !P >< ^P !A !C\n",
        "^A !P >< ^P ^E ^E ^A !A !C\n",
        "^E !E !E !P >< ^P !A !C\n",
        "^C !E !P >< ^P !A !C\n",
        "^A !P >< ^P ^H !H !A\n",
        "^E !E !P >< ^P !A !C\n",
        "^A !P >< ^P !A\n",
        "^C ^C ^E ^A !P >< ^P !A !E !C !C\n",
        "^C ^E !E >< ^E ^S !H !A !C\n",
        "^C !E !E >< ^E ^E ^C !C !E\n",
        "^C ^A !S !C >< ^C ^S ^E !C\n",
        "^C ^A !P >< ^P ^H !H !A\n",
        "^C ^E !C >< ^C ^C ^E !C\n",
        "^C !E !E !P >< ^P !A !C !C\n",
        "^E ^A !A !E !P >< ^P ^E ^A ^H !C\n",
        "^C !E !R >< ^R ^E ^E ^P ^A ^H !H !A !C\n",
        "^A ^H !H !P >< ^P !A !C\n",
        "^E ^E !E !E !R >< ^R ^E !C\n",
        "^C ^E ^A ^H !S !C >< ^C ^S !H !A !C\n",
        "^A !P >< ^P !A !E !C\n",
        "^C ^E !E !C !R >< ^R !C\n",
        "^E ^A !P >< ^P !A !E\n",
        "^C !H !P >< ^P ^H !H !A !A !E !E !A !E !C\n",
        "^A !P >< ^P ^E ^A ^E ^A !A\n",
        "EOF"
      ],
      "execution_count": 0,
      "outputs": []
    },
    {
      "cell_type": "code",
      "metadata": {
        "id": "Z4b2zaSOSc-v",
        "colab_type": "code",
        "outputId": "d3d7e049-ec78-4991-8d73-bc2ae1cf49a0",
        "colab": {
          "base_uri": "https://localhost:8080/",
          "height": 53
        }
      },
      "source": [
        "!echo \"total number of relations:\" $(( $(wc -l < org:founded_by_ucca.csv) - 1 ))\n",
        "!echo \"number of matches:\" $(( $(extract_relations_ucca --input org:founded_by_ucca.csv paths triggers |wc -l) - 1 ))"
      ],
      "execution_count": 0,
      "outputs": [
        {
          "output_type": "stream",
          "text": [
            "total number of relations: 76\n",
            "number of matches: 15\n"
          ],
          "name": "stdout"
        }
      ]
    }
  ]
}