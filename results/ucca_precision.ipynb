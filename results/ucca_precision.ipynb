{
  "nbformat": 4,
  "nbformat_minor": 0,
  "metadata": {
    "colab": {
      "name": "ucca_precision.ipynb",
      "version": "0.3.2",
      "provenance": [],
      "include_colab_link": true
    },
    "kernelspec": {
      "name": "python3",
      "display_name": "Python 3"
    }
  },
  "cells": [
    {
      "cell_type": "markdown",
      "metadata": {
        "id": "view-in-github",
        "colab_type": "text"
      },
      "source": [
        "<a href=\"https://colab.research.google.com/github/comp-aspects-of-appl-linguistics/relation-extraction-utils/blob/master/results/ucca_precision.ipynb\" target=\"_parent\"><img src=\"https://colab.research.google.com/assets/colab-badge.svg\" alt=\"Open In Colab\"/></a>"
      ]
    },
    {
      "cell_type": "code",
      "metadata": {
        "id": "GxAbTOgX-LWP",
        "colab_type": "code",
        "colab": {}
      },
      "source": [
        "# download ucca/tupa modules\n",
        "\n",
        "!git clone https://github.com/danielhers/ucca.git\n",
        "!pip install -e /content/ucca\n",
        "!git clone https://github.com/OfirArviv/tupa.git\n",
        "!cd /content/tupa; git checkout -b  remotes/origin/elmo_weighted_w_special_tokens_to_lstm_mlp\n",
        "!pip install -e /content/tupa"
      ],
      "execution_count": 0,
      "outputs": []
    },
    {
      "cell_type": "code",
      "metadata": {
        "id": "SU7SkODy-eFr",
        "colab_type": "code",
        "colab": {}
      },
      "source": [
        "# download spacy (required for tupa)\n",
        "\n",
        "!python -m spacy download en_core_web_md"
      ],
      "execution_count": 0,
      "outputs": []
    },
    {
      "cell_type": "code",
      "metadata": {
        "id": "JS0FzUKB-gZU",
        "colab_type": "code",
        "colab": {}
      },
      "source": [
        "# download elmo (including first download of gdrive)\n",
        "\n",
        "!wget -O /tmp/gdrive https://docs.google.com/uc?id=0B3X9GlR6EmbnWksyTEtCM0VfaFE&export=download\n",
        "!chmod +x /tmp/gdrive\n",
        "!/tmp/gdrive download -r 1Lg2nnocplvi37TJe9rP3Tduh98urUKNx\n",
        "!mkdir /content/tupa/models\n",
        "!mv elmo_4_test_sentences_1 /content/tupa/models/"
      ],
      "execution_count": 0,
      "outputs": []
    },
    {
      "cell_type": "code",
      "metadata": {
        "id": "EOvPBF1l-p7A",
        "colab_type": "code",
        "colab": {}
      },
      "source": [
        "# install our utilities\n",
        "\n",
        "!pip install -U git+https://github.com/comp-aspects-of-appl-linguistics/relation_extraction_utils.git"
      ],
      "execution_count": 0,
      "outputs": []
    },
    {
      "cell_type": "code",
      "metadata": {
        "id": "LjcwWvqm-ydE",
        "colab_type": "code",
        "outputId": "020ff7bb-89c2-41c6-a03e-2e44318e9077",
        "colab": {
          "base_uri": "https://localhost:8080/",
          "height": 53
        }
      },
      "source": [
        "# download train.json (whose ID is 1nPpp1zs3_0rkPkCvuz-dSK4YygxO6lw1)\n",
        "\n",
        "!/tmp/gdrive download 1nPpp1zs3_0rkPkCvuz-dSK4YygxO6lw1"
      ],
      "execution_count": 0,
      "outputs": [
        {
          "output_type": "stream",
          "text": [
            "Downloading train.json -> train.json\n",
            "Downloaded 1nPpp1zs3_0rkPkCvuz-dSK4YygxO6lw1 at 50.8 MB/s, total 106.8 MB\n"
          ],
          "name": "stdout"
        }
      ]
    },
    {
      "cell_type": "code",
      "metadata": {
        "id": "oyHjp0Wb-4XA",
        "colab_type": "code",
        "colab": {}
      },
      "source": [
        "# create a sample file (no_relation_sample) with 0.5% of the sentenecs and get the ucca parses for them captured in file 'no_relation_sample_ucca.csv'\n",
        "\n",
        "!tac_to_csv --input train.json --relation no_relation | awk 'BEGIN {srand()} !/^$/ { if (FNR==1 || rand() <= .005) print $0}'  > no_relation_sample.csv\n",
        "!parse_ucca --input ./no_relation_sample.csv --output ./no_relation_sample_ucca.csv /content/tupa/models/elmo_4_test_sentences_1/elmo_4_test_sentences_1 "
      ],
      "execution_count": 0,
      "outputs": []
    },
    {
      "cell_type": "code",
      "metadata": {
        "id": "svaUbnITIVNC",
        "colab_type": "code",
        "colab": {}
      },
      "source": [
        "%%bash\n",
        "\n",
        "cat > triggers << EOF\n",
        "create\n",
        "find\n",
        "launch\n",
        "found\n",
        "s\n",
        "'s\n",
        "build\n",
        "her\n",
        "his\n",
        "co-founder\n",
        "start\n",
        "establish\n",
        "set\n",
        "founder\n",
        "set up\n",
        "form\n",
        "EOF"
      ],
      "execution_count": 0,
      "outputs": []
    },
    {
      "cell_type": "code",
      "metadata": {
        "id": "CRsbWsgBIfAc",
        "colab_type": "code",
        "colab": {}
      },
      "source": [
        "%%bash\n",
        "\n",
        "cat > paths << \"EOF\"\n",
        "^C ^A !P >< ^P !A\n",
        "^E ^A !S >< ^S !A\n",
        "^C !E !E !P >< ^P !A !C\n",
        "^E !E >< \n",
        "^C ^E !C >< ^C ^A !A\n",
        "^C !E !R >< ^R !C\n",
        "^A !P >< ^P ^E !C\n",
        "^C ^E !C >< ^C ^E !C\n",
        "^C ^A !P >< ^P ^E !C\n",
        "^E !C >< ^C ^E !C\n",
        "^C ^A ^H !H !P >< ^P !A !C\n",
        "^C ^E !C !C >< ^C ^C ^A !A\n",
        "^C ^E !E >< ^E ^A !A !A !C\n",
        "^C ^A !A !E !E >< ^E !C\n",
        "^A !P >< ^P ^E ^E !C\n",
        "^A !A !E >< \n",
        "^C !E !E !P >< ^P ^E ^E ^A !A ^A !A\n",
        "^E ^A !P >< ^P !A\n",
        "^C ^A !P >< ^P !A !E !A !C\n",
        "^C ^A !P >< ^P !A !C\n",
        "^C ^E !C >< ^C ^C !C !A !C\n",
        "^C !E >< \n",
        "^A !P >< ^P !A !C\n",
        "^A !P >< ^P ^A !A\n",
        "^E ^A !P >< ^P ^H !H !A !C\n",
        "^C !E !E !P >< ^P !A\n",
        "^C ^E !E >< ^E ^E !C\n",
        "^C ^E !C >< ^C ^A !A !C\n",
        "^C ^E !E >< ^E !C\n",
        "^E !C >< ^C ^A !A\n",
        "^C !P >< ^P !A !C\n",
        "^E ^A !P >< ^P !A !C\n",
        "^A !P >< ^P ^E ^E ^A !A !C\n",
        "^E !E !E !P >< ^P !A !C\n",
        "^C !E !P >< ^P !A !C\n",
        "^A !P >< ^P ^H !H !A\n",
        "^E !E !P >< ^P !A !C\n",
        "^A !P >< ^P !A\n",
        "^C ^C ^E ^A !P >< ^P !A !E !C !C\n",
        "^C ^E !E >< ^E ^S !H !A !C\n",
        "^C !E !E >< ^E ^E ^C !C !E\n",
        "^C ^A !S !C >< ^C ^S ^E !C\n",
        "^C ^A !P >< ^P ^H !H !A\n",
        "^C ^E !C >< ^C ^C ^E !C\n",
        "^C !E !E !P >< ^P !A !C !C\n",
        "^E ^A !A !E !P >< ^P ^E ^A ^H !C\n",
        "^C !E !R >< ^R ^E ^E ^P ^A ^H !H !A !C\n",
        "^A ^H !H !P >< ^P !A !C\n",
        "^E ^E !E !E !R >< ^R ^E !C\n",
        "^C ^E ^A ^H !S !C >< ^C ^S !H !A !C\n",
        "^A !P >< ^P !A !E !C\n",
        "^C ^E !E !C !R >< ^R !C\n",
        "^E ^A !P >< ^P !A !E\n",
        "^C !H !P >< ^P ^H !H !A !A !E !E !A !E !C\n",
        "^A !P >< ^P ^E ^A ^E ^A !A\n",
        "EOF"
      ],
      "execution_count": 0,
      "outputs": []
    },
    {
      "cell_type": "code",
      "metadata": {
        "id": "W47JW_xLImz_",
        "colab_type": "code",
        "outputId": "f88f35de-8202-4c58-9adf-90efff4b7eb7",
        "colab": {
          "base_uri": "https://localhost:8080/",
          "height": 90
        }
      },
      "source": [
        "!echo \"total number of lines:\" $(( $(wc -l < no_relation_sample_ucca.csv) - 1))\n",
        "!echo \"number of rows with matched triggers (that were not identified) :\" $(extract_relations_ucca --include_miss --input no_relation_sample_ucca.csv paths triggers | grep 'considered the following matching triggers' |sed  's/.*considered the following matching triggers: \\(.*\\)/\\1/' | awk '{ sub(\"\\r$\", \"\"); print }'  | sed '/^$/d' | wc -l )\n",
        "!echo \"number of matches:\" $(( $(extract_relations_ucca --input no_relation_sample_ucca.csv paths triggers | wc -l) - 1 ))\n",
        "!echo \"number of matches filtered by NER:\" $(( $(extract_relations_ucca --input no_relation_sample_ucca.csv paths triggers | append_ner | filter_relations --entity-types ORG PERSON | wc -l) - 1 ))"
      ],
      "execution_count": 0,
      "outputs": [
        {
          "output_type": "stream",
          "text": [
            "total number of lines: 250\n",
            "number of rows with matched triggers (that were not identified) : 115\n",
            "number of matches: 6\n",
            "number of matches filtered by NER: 0\n"
          ],
          "name": "stdout"
        }
      ]
    }
  ]
}