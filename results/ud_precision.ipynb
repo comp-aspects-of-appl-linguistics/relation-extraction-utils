{
  "nbformat": 4,
  "nbformat_minor": 0,
  "metadata": {
    "colab": {
      "name": "ud_precision.ipynb",
      "version": "0.3.2",
      "provenance": [],
      "include_colab_link": true
    },
    "kernelspec": {
      "name": "python3",
      "display_name": "Python 3"
    }
  },
  "cells": [
    {
      "cell_type": "markdown",
      "metadata": {
        "id": "view-in-github",
        "colab_type": "text"
      },
      "source": [
        "<a href=\"https://colab.research.google.com/github/comp-aspects-of-appl-linguistics/relation-extraction-utils/blob/master/results/ud_precision.ipynb\" target=\"_parent\"><img src=\"https://colab.research.google.com/assets/colab-badge.svg\" alt=\"Open In Colab\"/></a>"
      ]
    },
    {
      "cell_type": "code",
      "metadata": {
        "id": "5t0YDnIjUJne",
        "colab_type": "code",
        "colab": {}
      },
      "source": [
        "# get stanfordnlp resources \n",
        "\n",
        "import os\n",
        "import stanfordnlp\n",
        "\n",
        "if not os.path.exists('/root/stanfordnlp_resources'):\n",
        "  stanfordnlp.download('en', force=True)"
      ],
      "execution_count": 0,
      "outputs": []
    },
    {
      "cell_type": "code",
      "metadata": {
        "id": "TYuffXCLfOD7",
        "colab_type": "code",
        "colab": {}
      },
      "source": [
        "# install our utilities\n",
        "\n",
        "!pip install git+https://github.com/comp-aspects-of-appl-linguistics/relation_extraction_utils.git"
      ],
      "execution_count": 0,
      "outputs": []
    },
    {
      "cell_type": "code",
      "metadata": {
        "id": "5OabMkm1fk9y",
        "colab_type": "code",
        "outputId": "24adea48-0223-4b51-e3d7-6497b34edb5a",
        "colab": {
          "base_uri": "https://localhost:8080/",
          "height": 53
        }
      },
      "source": [
        "# download train.json - whose ID is 1nPpp1zs3_0rkPkCvuz-dSK4YygxO6lw1 (including download of gdrive utility)\n",
        "\n",
        "!wget -O /tmp/gdrive https://docs.google.com/uc?id=0B3X9GlR6EmbnWksyTEtCM0VfaFE&export=download\n",
        "!chmod +x /tmp/gdrive\n",
        "!/tmp/gdrive download 1nPpp1zs3_0rkPkCvuz-dSK4YygxO6lw1"
      ],
      "execution_count": 0,
      "outputs": [
        {
          "output_type": "stream",
          "text": [
            "Downloading train.json -> train.json\n",
            "File 'train.json' already exists, use --force to overwrite\n"
          ],
          "name": "stdout"
        }
      ]
    },
    {
      "cell_type": "code",
      "metadata": {
        "id": "Hxf8TiT2gQxm",
        "colab_type": "code",
        "colab": {}
      },
      "source": [
        "# create a sample file (no_relation_sample) with 5% of the sentences and get the ud parses for them captured in file 'no_relation_sample_ucca.csv'\n",
        "\n",
        "!tac_to_csv --input train.json --relation no_relation | awk 'BEGIN {srand()} !/^$/ { if (FNR==1 || rand() <= .05) print $0}'  > no_relation_sample.csv"
      ],
      "execution_count": 0,
      "outputs": []
    },
    {
      "cell_type": "code",
      "metadata": {
        "id": "5QfX1mxUgiaw",
        "colab_type": "code",
        "colab": {}
      },
      "source": [
        "!parse_ud --input ./no_relation_sample.csv --output ./no_relation_sample_ud.csv"
      ],
      "execution_count": 0,
      "outputs": []
    },
    {
      "cell_type": "code",
      "metadata": {
        "id": "lK5WqhygmZVl",
        "colab_type": "code",
        "colab": {}
      },
      "source": [
        "%%bash\n",
        "\n",
        "cat > triggers << EOF\n",
        "create\n",
        "find\n",
        "launch\n",
        "found\n",
        "s\n",
        "'s\n",
        "build\n",
        "her\n",
        "his\n",
        "co-founder\n",
        "start\n",
        "establish\n",
        "set\n",
        "founder\n",
        "set up\n",
        "form\n",
        "EOF"
      ],
      "execution_count": 0,
      "outputs": []
    },
    {
      "cell_type": "code",
      "metadata": {
        "id": "OSHlP7dwmzO3",
        "colab_type": "code",
        "colab": {}
      },
      "source": [
        "%%bash\n",
        "\n",
        "cat > paths << \"EOF\"\n",
        "!nmod:poss !case >< ^case\n",
        "^nmod >< ^appos\n",
        "^obj >< !nsubj\n",
        "^obj >< ^conj !nsubj\n",
        "!appos !acl >< !obl\n",
        "^compound >< ^compound\n",
        "^obj >< ^acl:relcl ^appos\n",
        "^obj >< ^acl:relcl\n",
        "^xcomp >< ^acl\n",
        "^obj >< ^advcl !nsubj\n",
        "^nsubj:pass >< !obl\n",
        "^nmod !appos >< ^appos\n",
        "^nmod >< !nsubj\n",
        "!nmod:poss ><\n",
        "!appos !acl:relcl >< !nsubj\n",
        "!acl:relcl >< !obl\n",
        "^obl ^acl:relcl !acl >< !obl\n",
        "^obj >< ^xcomp !nsubj\n",
        "^obj >< ^conj ^advcl !nsubj\n",
        "^obj >< ^acl:relcl !appos\n",
        "^obj >< ^acl ^obj !nsubj\n",
        "^nsubj:pass ^acl:relcl >< !acl:relcl !obl\n",
        "^nsubj:pass !advcl >< !obl\n",
        "^nsubj:pass >< !obl !nmod !conj !nmod\n",
        "^nsubj:pass >< !obl !acl !xcomp\n",
        "^nsubj ^acl:relcl !nmod !nmod:poss ><\n",
        "^nsubj !obl !nmod !compound >< ^compound\n",
        "^nsubj !obl >< !nmod\n",
        "^nsubj !ccomp !ccomp !obl !nmod !appos ><\n",
        "^nsubj !advcl >< !obl !flat\n",
        "^nsubj !advcl >< !obl\n",
        "^nsubj !acl >< !obl\n",
        "^nsubj >< !obl\n",
        "^nmod:poss !compound >< ^compound !appos\n",
        "^nmod:poss >< ^compound\n",
        "^nmod:poss >< ^appos !appos\n",
        "^nmod:poss >< ^appos\n",
        "^nmod ^appos ^nsubj !obj !nmod !compound !punct >< ^punct ^compound ^nmod ^obj !nsubj\n",
        "^nmod !nmod !acl:relcl >< ^acl:relcl ^nmod ^obl !nsubj\n",
        "^nmod >< ^acl:relcl\n",
        "^det !acl:relcl >< !obl\n",
        "^conj !nmod:poss ><\n",
        "^conj !conj !nmod:poss ><\n",
        "^compound ^nmod >< ^conj !appos !nmod\n",
        "^compound ^nmod >< !nsubj\n",
        "^compound ^compound ^nmod >< ^appos\n",
        "^compound ^compound !nmod:poss ><\n",
        "^compound !nmod:poss !case >< ^case\n",
        "^appos ^nsubj:pass >< !obl !flat\n",
        "^appos !nmod:poss !case >< ^case\n",
        "!nmod:poss !case >< ^case ^nmod:poss\n",
        "!nmod >< ^nmod ^appos\n",
        "!appos !acl:relcl >< ^acl:relcl !acl:relcl !nsubj\n",
        "!appos !acl:relcl >< !obl !nmod\n",
        "!appos !acl >< !obl !flat\n",
        "!acl >< !advmod !obl\n",
        "EOF"
      ],
      "execution_count": 0,
      "outputs": []
    },
    {
      "cell_type": "code",
      "metadata": {
        "id": "HwP6eFJ9m5Is",
        "colab_type": "code",
        "outputId": "43cf1bbb-f3b9-4470-f59f-129febd2e946",
        "colab": {
          "base_uri": "https://localhost:8080/",
          "height": 90
        }
      },
      "source": [
        "!echo \"total number of lines:\" $(( $(wc -l < no_relation_sample_ud.csv) - 1))\n",
        "!echo \"number of rows with matched triggers (that were not identified) :\" $(extract_relations_ud --include_miss --input no_relation_sample_ud.csv paths triggers | grep 'considered the following matching triggers' |sed  's/.*considered the following matching triggers: \\(.*\\)/\\1/' | awk '{ sub(\"\\r$\", \"\"); print }'  | sed '/^$/d' | wc -l )\n",
        "!echo \"number of matches:\" $(( $(extract_relations_ud --input no_relation_sample_ud.csv paths triggers | wc -l) - 1 ))\n",
        "!echo \"number of matches filtered by NER:\" $(( $(extract_relations_ud --input no_relation_sample_ud.csv paths triggers | append_ner | filter_relations --entity-types ORG PERSON | wc -l) - 1 ))"
      ],
      "execution_count": 0,
      "outputs": [
        {
          "output_type": "stream",
          "text": [
            "total number of lines: 2737\n",
            "number of rows with matched triggers (that were not identified) : 1238\n",
            "number of matches: 7\n",
            "number of matches filtered by NER: 0\n"
          ],
          "name": "stdout"
        }
      ]
    }
  ]
}