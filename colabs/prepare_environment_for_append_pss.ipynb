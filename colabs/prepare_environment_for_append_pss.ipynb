{
  "nbformat": 4,
  "nbformat_minor": 0,
  "metadata": {
    "colab": {
      "name": "prepare_environment_for_append_pss.ipynb",
      "version": "0.3.2",
      "provenance": [],
      "collapsed_sections": [],
      "include_colab_link": true
    },
    "kernelspec": {
      "name": "python3",
      "language": "python",
      "display_name": "Python 3"
    }
  },
  "cells": [
    {
      "cell_type": "markdown",
      "metadata": {
        "id": "view-in-github",
        "colab_type": "text"
      },
      "source": [
        "<a href=\"https://colab.research.google.com/github/comp-aspects-of-appl-linguistics/relation-extraction-utils/blob/master/colabs/prepare-stadfordnlp-and-pss-environment.ipynb\" target=\"_parent\"><img src=\"https://colab.research.google.com/assets/colab-badge.svg\" alt=\"Open In Colab\"/></a>"
      ]
    },
    {
      "cell_type": "code",
      "metadata": {
        "id": "MYJzf8fZnbGW",
        "colab_type": "code",
        "pycharm": {},
        "colab": {}
      },
      "source": [
        "!git clone https://github.com/avst34/nlp.git"
      ],
      "execution_count": 0,
      "outputs": []
    },
    {
      "cell_type": "code",
      "metadata": {
        "id": "xVBEqK9IJqhl",
        "colab_type": "code",
        "colab": {}
      },
      "source": [
        "!wget https://download.java.net/java/GA/jdk9/9/binaries/openjdk-9_linux-x64_bin.tar.gz\n",
        "!tar xzvf openjdk-9_linux-x64_bin.tar.gz"
      ],
      "execution_count": 0,
      "outputs": []
    },
    {
      "cell_type": "code",
      "metadata": {
        "id": "senKKvU35KD7",
        "colab_type": "code",
        "pycharm": {},
        "colab": {}
      },
      "source": [
        "!pip -q install dynet"
      ],
      "execution_count": 0,
      "outputs": []
    },
    {
      "cell_type": "code",
      "metadata": {
        "id": "y4tiRcvZFxVn",
        "colab_type": "code",
        "pycharm": {},
        "colab": {}
      },
      "source": [
        "%cd /content/nlp"
      ],
      "execution_count": 0,
      "outputs": []
    },
    {
      "cell_type": "code",
      "metadata": {
        "id": "3e7GuS2UoHBf",
        "colab_type": "code",
        "pycharm": {},
        "colab": {}
      },
      "source": [
        "!git checkout -b pss-cli origin/pss-cli "
      ],
      "execution_count": 0,
      "outputs": []
    },
    {
      "cell_type": "code",
      "metadata": {
        "id": "c1p4dYlMSIfS",
        "colab_type": "code",
        "pycharm": {},
        "colab": {}
      },
      "source": [
        "%%bash\n",
        "\n",
        "cat > models/supersenses/preprocessing/corenlp.py << EOF\n",
        "import os\n",
        "import subprocess\n",
        "import time\n",
        "from tempfile import NamedTemporaryFile\n",
        "\n",
        "import requests\n",
        "\n",
        "CORENLP_SERVER_PORT = 9000\n",
        "\n",
        "class CoreNLPServer(object):\n",
        "    def __init__(self):\n",
        "        self.handle = None\n",
        "\n",
        "    def start(self, port):\n",
        "        global CORENLP_SERVER_PORT\n",
        "\n",
        "        print('setting CORENLP_SERVER_PORT to ', port)\n",
        "        CORENLP_SERVER_PORT = port\n",
        "        corenlp_home = os.path.dirname(__file__) + '/../../../corenlp/stanford-corenlp-full-2017-06-09'\n",
        "\n",
        "\n",
        "        files = [x for x in os.listdir(corenlp_home) if os.path.isfile(x)]\n",
        "        self.handle = subprocess.Popen(\n",
        "            args=('/content/jdk-9/bin/java --add-modules java.se.ee -mx8g -cp * edu.stanford.nlp.pipeline.StanfordCoreNLPServer -port ' + str(port) + ' -timeout 15000 ').split(),\n",
        "            cwd=corenlp_home,\n",
        "            stdout=open('/tmp/tmp', 'a'),\n",
        "            stderr=subprocess.STDOUT\n",
        "        )\n",
        "        time.sleep(1)\n",
        "        if self.handle.poll() is not None:\n",
        "            raise Exception(\"Error starting CoreNLP server\")\n",
        "\n",
        "    def stop(self):\n",
        "        self.handle.terminate()\n",
        "\n",
        "\n",
        "def run_corenlp(tokens, format='conllu', use_server=True):\n",
        "\n",
        "    print('in run_corenlp with port of ',CORENLP_SERVER_PORT )\n",
        "    assert format in ['conllu', 'conll', 'json']\n",
        "    sentence = ' '.join(tokens)\n",
        "    if use_server:\n",
        "        req = {\n",
        "            'params': {\n",
        "                'outputFormat': format,\n",
        "                'ssplit.isOneSentence': 'true',\n",
        "                'tokenize.whitespace': 'true',\n",
        "                'annotators': \"tokenize,ssplit,pos,lemma,ner,parse,dcoref,udfeats\"\n",
        "            },\n",
        "            'data': sentence\n",
        "        }\n",
        "        r = requests.post('http://127.0.0.1:{:d}/'.format(CORENLP_SERVER_PORT), params=req['params'], data=req['data'].encode('utf-8'))\n",
        "        out = r.text.replace('\\r\\n', '\\n')\n",
        "    else:\n",
        "        input_file = NamedTemporaryFile(delete=False)\n",
        "        try:\n",
        "            input_file.write(sentence)\n",
        "            input_file.close()\n",
        "            os.system('/content/jdk-9/bin/java -mx3g edu.stanford.nlp.pipeline.StanfordCoreNLP -outputFormat ' + format + ' -filelist ' + input_file.name + ' -depparse BasicDependenciesAnnotation -ssplit.isOneSentence true -tokenize.whitespace true')\n",
        "            with open(input_file + '.' + format, 'r') as f:\n",
        "                out = f.read()\n",
        "        finally:\n",
        "            os.unlink(input_file.name)\n",
        "\n",
        "    return out\n",
        "EOF"
      ],
      "execution_count": 0,
      "outputs": []
    },
    {
      "cell_type": "code",
      "metadata": {
        "id": "syRsxrciaqop",
        "colab_type": "code",
        "pycharm": {},
        "colab": {}
      },
      "source": [
        "!wget -nc http://nlp.stanford.edu/software/stanford-corenlp-full-2017-06-09.zip\n",
        "!mkdir -p corenlp\n",
        "!unzip  -n stanford-corenlp-full-2017-06-09.zip -d corenlp\n"
      ],
      "execution_count": 0,
      "outputs": []
    },
    {
      "cell_type": "code",
      "metadata": {
        "id": "uI9CjU4AZ37M",
        "colab_type": "code",
        "pycharm": {},
        "colab": {}
      },
      "source": [
        "!wget -O /tmp/gdrive https://docs.google.com/uc?id=0B3X9GlR6EmbnWksyTEtCM0VfaFE&export=download\n",
        "!chmod +x /tmp/gdrive\n",
        "!/tmp/gdrive download 1Vd1QlacUaSoMMlbGe6lhaVKk9LTmJFBn\n",
        "!/tmp/gdrive download 1z2D0VQlSAw9GjYdxBOsED3RC9HkY8-lx\n",
        "!mv wiki.en.chunked* models/supersenses/embeddings"
      ],
      "execution_count": 0,
      "outputs": []
    },
    {
      "cell_type": "code",
      "metadata": {
        "id": "rUWM_d608YkF",
        "colab_type": "code",
        "colab": {}
      },
      "source": [
        "import nltk\n",
        "nltk.download('punkt')"
      ],
      "execution_count": 0,
      "outputs": []
    },
    {
      "cell_type": "code",
      "metadata": {
        "id": "Q_o2-6PePgni",
        "colab_type": "code",
        "colab": {}
      },
      "source": [
        "#### PRERATIONS:\n",
        "\n",
        "# STEP 1: ensure 'relation_extraction_utils' is installed - as stanfordnlp is \n",
        "#         a dependency of 'relation_extraction_utils' it will be installed if \n",
        "#         necessary.\n",
        "#         Additionally, stanfordnlp_resources are downloaded if nt alread present\n",
        "!pip install git+https://github.com/comp-aspects-of-appl-linguistics/relation_extraction_utils.git\n",
        "\n",
        "import os\n",
        "import stanfordnlp\n",
        "\n",
        "if not os.path.exists('/root/stanfordnlp_resources'):\n",
        "  stanfordnlp.download('en', force=True)\n",
        "\n",
        "  \n",
        "# STEP 2: we'll need to access Google Drive to fetch the 'train.json' file -\n",
        "#         at the end of the next snippet will be promted to click a link from\n",
        "#         which the user will be able to generate an Oath token to be copied \n",
        "#         at the prompt\n",
        "  \n",
        "!pip install PyDrive\n",
        "\n",
        "from pydrive.auth import GoogleAuth\n",
        "from pydrive.drive import GoogleDrive\n",
        "from google.colab import auth\n",
        "from oauth2client.client import GoogleCredentials\n",
        "\n",
        "\n",
        "# Authenticate and create the PyDrive client.\n",
        "auth.authenticate_user()\n",
        "gauth = GoogleAuth()\n",
        "gauth.credentials = GoogleCredentials.get_application_default()\n",
        "drive = GoogleDrive(gauth)\n",
        "\n",
        "\n",
        "# NOTE: The id of the file assigned to 'train.json' may change\n",
        "drive_id_for_train_json_file='1nPpp1zs3_0rkPkCvuz-dSK4YygxO6lw1'\n",
        "\n",
        "# get the file into our current environment's file system\n",
        "downloaded = drive.CreateFile({'id':drive_id_for_train_json_file}) \n",
        "downloaded.GetContentFile('train.json')  "
      ],
      "execution_count": 0,
      "outputs": []
    },
    {
      "cell_type": "code",
      "metadata": {
        "id": "NFy3Qb2fmVzO",
        "colab_type": "code",
        "colab": {
          "base_uri": "https://localhost:8080/",
          "height": 313
        },
        "outputId": "6078c61b-8ece-417a-abaf-e8ffd59858a6"
      },
      "source": [
        "!cat train.json | tac_to_csv --relation no_relation | head -8 | parse_ud"
      ],
      "execution_count": 27,
      "outputs": [
        {
          "output_type": "stream",
          "text": [
            "tcmalloc: large alloc 2401861632 bytes == 0x200fe000 @  0x7f2c5f3f71e7 0x59213c 0x4c414e 0x565b49 0x5a3761 0x4d4c06 0x4d5140 0x4d62f3 0x503091 0x506859 0x504c28 0x58650d 0x59ebbe 0x507c17 0x504c28 0x502540 0x502f3d 0x506859 0x502209 0x502f3d 0x506859 0x504c28 0x58644b 0x4ac411 0x56074d 0x50677d 0x502209 0x502f3d 0x506859 0x504c28 0x501b2e\n",
            "tcmalloc: large alloc 2401861632 bytes == 0xaf396000 @  0x7f2c5f3f71e7 0x53b7df 0x53f768 0x4d515d 0x4d62f3 0x503091 0x506859 0x504c28 0x58650d 0x59ebbe 0x507c17 0x504c28 0x502540 0x502f3d 0x506859 0x502209 0x502f3d 0x506859 0x504c28 0x58644b 0x4ac411 0x56074d 0x50677d 0x502209 0x502f3d 0x506859 0x504c28 0x501b2e 0x591461 0x54b813 0x555421\n",
            "tcmalloc: large alloc 2401861632 bytes == 0x13e62e000 @  0x7f2c5f3f71e7 0x53b7df 0x5244ed 0x524e8f 0x53fb91 0x4d515d 0x4d62f3 0x503091 0x506859 0x504c28 0x58650d 0x59ebbe 0x507c17 0x504c28 0x502540 0x502f3d 0x506859 0x502209 0x502f3d 0x506859 0x504c28 0x58644b 0x4ac411 0x56074d 0x50677d 0x502209 0x502f3d 0x506859 0x504c28 0x501b2e 0x591461\n",
            "tcmalloc: large alloc 1610858496 bytes == 0x200fe000 @  0x7f2c5f3f71e7 0x59213c 0x5f747a 0x566096 0x59ebbe 0x4f86d9 0x5f873a 0x565c54 0x5660d6 0x59ebbe 0x4d708f 0x503091 0x506859 0x504c28 0x58650d 0x59ebbe 0x507c17 0x504c28 0x502540 0x502f3d 0x506859 0x502209 0x502f3d 0x506859 0x504c28 0x58644b 0x4ac411 0x56074d 0x50677d 0x502209 0x502f3d\n",
            "tcmalloc: large alloc 2401861632 bytes == 0x95c46000 @  0x7f2c5f3f71e7 0x59213c 0x4c414e 0x565b49 0x5a3761 0x4d4c06 0x4d5140 0x4d62f3 0x503091 0x506859 0x504c28 0x58650d 0x59ebbe 0x507c17 0x504c28 0x502540 0x502f3d 0x506859 0x502209 0x502f3d 0x506859 0x504c28 0x58644b 0x4ac411 0x56074d 0x50677d 0x502209 0x502f3d 0x506859 0x504c28 0x501b2e\n",
            "tcmalloc: large alloc 2401861632 bytes == 0x124ede000 @  0x7f2c5f3f71e7 0x53b7df 0x53f768 0x4d515d 0x4d62f3 0x503091 0x506859 0x504c28 0x58650d 0x59ebbe 0x507c17 0x504c28 0x502540 0x502f3d 0x506859 0x502209 0x502f3d 0x506859 0x504c28 0x58644b 0x4ac411 0x56074d 0x50677d 0x502209 0x502f3d 0x506859 0x504c28 0x501b2e 0x591461 0x54b813 0x555421\n",
            "tcmalloc: large alloc 2401861632 bytes == 0x1cfd18000 @  0x7f2c5f3f71e7 0x53b7df 0x5244ed 0x524e8f 0x53fb91 0x4d515d 0x4d62f3 0x503091 0x506859 0x504c28 0x58650d 0x59ebbe 0x507c17 0x504c28 0x502540 0x502f3d 0x506859 0x502209 0x502f3d 0x506859 0x504c28 0x58644b 0x4ac411 0x56074d 0x50677d 0x502209 0x502f3d 0x506859 0x504c28 0x501b2e 0x591461\n",
            "tac_tokens,id,sentence,ent1,ent2,ent1_start,ent1_end,ent2_start,ent2_end,ud_parse,words,lemmas,comment\n",
            "\"['In', '1983', ',', 'a', 'year', 'after', 'the', 'rally', ',', 'Forsberg', 'received', 'the', 'so-called', '``', 'genius', 'award', \"\"''\"\", 'from', 'the', 'John', 'D.', 'and', 'Catherine', 'T.', 'MacArthur', 'Foundation', '.']\",0,\"In 1983, a year after the rally, Forsberg received the so-called \"\"genius award\"\" from the John D. and Catherine T. MacArthur Foundation.\",Forsberg,John D.,10,10,22,23,\"[('1', 'In', 'case', '2', '1983'), ('2', '1983', 'obl', '11', 'received'), ('3', ',', 'punct', '11', 'received'), ('4', 'a', 'det', '5', 'year'), ('5', 'year', 'nmod:npmod', '8', 'rally'), ('6', 'after', 'case', '8', 'rally'), ('7', 'the', 'det', '8', 'rally'), ('8', 'rally', 'obl', '11', 'received'), ('9', ',', 'punct', '11', 'received'), ('10', 'Forsberg', 'nsubj', '11', 'received'), ('11', 'received', 'root', '0', 'ROOT'), ('12', 'the', 'det', '18', 'award'), ('13', 'so', 'advmod', '15', 'called'), ('14', '-', 'punct', '15', 'called'), ('15', 'called', 'amod', '18', 'award'), ('16', '\"\"', 'punct', '18', 'award'), ('17', 'genius', 'compound', '18', 'award'), ('18', 'award', 'obj', '11', 'received'), ('19', '\"\"', 'punct', '18', 'award'), ('20', 'from', 'case', '28', 'Foundation'), ('21', 'the', 'det', '28', 'Foundation'), ('22', 'John', 'nmod', '18', 'award'), ('23', 'D.', 'flat', '22', 'John'), ('24', 'and', 'cc', '25', 'Catherine'), ('25', 'Catherine', 'conj', '22', 'John'), ('26', 'T.', 'flat', '25', 'Catherine'), ('27', 'MacArthur', 'compound', '28', 'Foundation'), ('28', 'Foundation', 'appos', '22', 'John'), ('29', '.', 'punct', '11', 'received')]\",\"[('1', 'In'), ('2', '1983'), ('3', ','), ('4', 'a'), ('5', 'year'), ('6', 'after'), ('7', 'the'), ('8', 'rally'), ('9', ','), ('10', 'Forsberg'), ('11', 'received'), ('12', 'the'), ('13', 'so'), ('14', '-'), ('15', 'called'), ('16', '\"\"'), ('17', 'genius'), ('18', 'award'), ('19', '\"\"'), ('20', 'from'), ('21', 'the'), ('22', 'John'), ('23', 'D.'), ('24', 'and'), ('25', 'Catherine'), ('26', 'T.'), ('27', 'MacArthur'), ('28', 'Foundation'), ('29', '.')]\",\"[('1', 'in'), ('2', '1983'), ('3', ','), ('4', 'a'), ('5', 'year'), ('6', 'after'), ('7', 'the'), ('8', 'rally'), ('9', ','), ('10', 'Forsberg'), ('11', 'receive'), ('12', 'the'), ('13', 'so'), ('14', '-'), ('15', 'call'), ('16', '\"\"'), ('17', 'genius'), ('18', 'award'), ('19', '\"\"'), ('20', 'from'), ('21', 'the'), ('22', 'John'), ('23', 'D.'), ('24', 'and'), ('25', 'Catherine'), ('26', 'T.'), ('27', 'MacArthur'), ('28', 'foundation'), ('29', '.')]\",\n",
            "\"['This', 'was', 'among', 'a', 'batch', 'of', 'paperback', 'Oxford', 'World', \"\"'s\"\", 'Classics', 'that', 'I', 'was', 'given', 'as', 'a', 'reward', 'for', 'reading', 'and', 'commenting', 'on', 'a', 'manuscript', 'for', 'OUP', '.']\",1,This was among a batch of paperback Oxford World's Classics that I was given as a reward for reading and commenting on a manuscript for OUP.,OUP,Oxford World,27,27,8,9,\"[('1', 'This', 'nsubj', '5', 'batch'), ('2', 'was', 'cop', '5', 'batch'), ('3', 'among', 'case', '5', 'batch'), ('4', 'a', 'det', '5', 'batch'), ('5', 'batch', 'root', '0', 'ROOT'), ('6', 'of', 'case', '7', 'paperback'), ('7', 'paperback', 'nmod', '5', 'batch'), ('8', 'Oxford', 'compound', '9', 'World'), ('9', 'World', 'nmod:poss', '11', 'Classics'), ('10', \"\"'s\"\", 'case', '9', 'World'), ('11', 'Classics', 'nmod', '5', 'batch'), ('12', 'that', 'obj', '15', 'given'), ('13', 'I', 'nsubj:pass', '15', 'given'), ('14', 'was', 'aux:pass', '15', 'given'), ('15', 'given', 'acl:relcl', '11', 'Classics'), ('16', 'as', 'case', '18', 'reward'), ('17', 'a', 'det', '18', 'reward'), ('18', 'reward', 'obl', '15', 'given'), ('19', 'for', 'mark', '20', 'reading'), ('20', 'reading', 'acl', '18', 'reward'), ('21', 'and', 'cc', '22', 'commenting'), ('22', 'commenting', 'conj', '20', 'reading'), ('23', 'on', 'case', '25', 'manuscript'), ('24', 'a', 'det', '25', 'manuscript'), ('25', 'manuscript', 'obl', '22', 'commenting'), ('26', 'for', 'case', '27', 'OUP'), ('27', 'OUP', 'nmod', '25', 'manuscript'), ('28', '.', 'punct', '5', 'batch')]\",\"[('1', 'This'), ('2', 'was'), ('3', 'among'), ('4', 'a'), ('5', 'batch'), ('6', 'of'), ('7', 'paperback'), ('8', 'Oxford'), ('9', 'World'), ('10', \"\"'s\"\"), ('11', 'Classics'), ('12', 'that'), ('13', 'I'), ('14', 'was'), ('15', 'given'), ('16', 'as'), ('17', 'a'), ('18', 'reward'), ('19', 'for'), ('20', 'reading'), ('21', 'and'), ('22', 'commenting'), ('23', 'on'), ('24', 'a'), ('25', 'manuscript'), ('26', 'for'), ('27', 'OUP'), ('28', '.')]\",\"[('1', 'this'), ('2', 'be'), ('3', 'among'), ('4', 'a'), ('5', 'batch'), ('6', 'of'), ('7', 'paperback'), ('8', 'Oxford'), ('9', 'World'), ('10', \"\"'s\"\"), ('11', 'classic'), ('12', 'that'), ('13', 'I'), ('14', 'be'), ('15', 'give'), ('16', 'as'), ('17', 'a'), ('18', 'reward'), ('19', 'for'), ('20', 'read'), ('21', 'and'), ('22', 'comment'), ('23', 'on'), ('24', 'a'), ('25', 'manuscript'), ('26', 'for'), ('27', 'oup'), ('28', '.')]\",\n",
            "\"['The', 'latest', 'investigation', 'was', 'authorized', 'after', 'the', 'Supreme', 'Court', 'in', '2007', 'found', 'DCC', 'and', 'its', 'founder', ',', 'Jim', 'Flavin', ',', 'guilty', 'of', 'selling', 'DCC', \"\"'s\"\", '-LRB-', 'EURO', '-RRB-', '106', 'million', '-LRB-', 'then', '$', '130', 'million', '-RRB-', 'stake', 'in', 'Fyffes', 'after', 'Flavin', '--', 'also', 'a', 'Fyffes', 'director', 'at', 'the', 'time', '--', 'received', 'inside', 'information', 'about', 'bad', 'Fyffes', 'news', 'in', 'the', 'pipeline', '.']\",2,\"The latest investigation was authorized after the Supreme Court in 2007 found DCC and its founder, Jim Flavin, guilty of selling DCC's (EURO) 106 million (then $130 million) stake in Fyffes after Flavin - also a Fyffes director at the time - received inside information about bad Fyffes news in the pipeline.\",Fyffes,106 million,56,56,29,30,\"[('1', 'The', 'det', '3', 'investigation'), ('2', 'latest', 'amod', '3', 'investigation'), ('3', 'investigation', 'nsubj:pass', '5', 'authorized'), ('4', 'was', 'aux:pass', '5', 'authorized'), ('5', 'authorized', 'root', '0', 'ROOT'), ('6', 'after', 'case', '9', 'Court'), ('7', 'the', 'det', '9', 'Court'), ('8', 'Supreme', 'compound', '9', 'Court'), ('9', 'Court', 'obl', '5', 'authorized'), ('10', 'in', 'case', '11', '2007'), ('11', '2007', 'obl', '5', 'authorized'), ('12', 'found', 'conj', '5', 'authorized'), ('13', 'DCC', 'obj', '12', 'found'), ('14', 'and', 'cc', '16', 'founder'), ('15', 'its', 'nmod:poss', '16', 'founder'), ('16', 'founder', 'conj', '13', 'DCC'), ('17', ',', 'punct', '16', 'founder'), ('18', 'Jim', 'conj', '13', 'DCC'), ('19', 'Flavin', 'flat', '18', 'Jim'), ('20', ',', 'punct', '21', 'guilty'), ('21', 'guilty', 'appos', '13', 'DCC'), ('22', 'of', 'mark', '23', 'selling'), ('23', 'selling', 'acl', '21', 'guilty'), ('24', 'DCC', 'nmod:poss', '27', 'EURO'), ('25', \"\"'s\"\", 'case', '24', 'DCC'), ('26', '(', 'punct', '27', 'EURO'), ('27', 'EURO', 'obj', '23', 'selling'), ('28', ')', 'punct', '27', 'EURO'), ('29', '106', 'compound', '30', 'million'), ('30', 'million', 'nummod', '27', 'EURO'), ('31', '(', 'punct', '33', '$'), ('32', 'then', 'advmod', '33', '$'), ('33', '$', 'appos', '37', 'stake'), ('34', '130', 'compound', '35', 'million'), ('35', 'million', 'nummod', '33', '$'), ('36', ')', 'punct', '33', '$'), ('37', 'stake', 'obj', '23', 'selling'), ('38', 'in', 'case', '39', 'Fyffes'), ('39', 'Fyffes', 'nmod', '37', 'stake'), ('40', 'after', 'case', '41', 'Flavin'), ('41', 'Flavin', 'nmod', '37', 'stake'), ('42', '-', 'punct', '37', 'stake'), ('43', 'also', 'advmod', '46', 'director'), ('44', 'a', 'det', '46', 'director'), ('45', 'Fyffes', 'compound', '46', 'director'), ('46', 'director', 'appos', '37', 'stake'), ('47', 'at', 'case', '49', 'time'), ('48', 'the', 'det', '49', 'time'), ('49', 'time', 'obl', '51', 'received'), ('50', '-', 'punct', '51', 'received'), ('51', 'received', 'acl', '46', 'director'), ('52', 'inside', 'case', '53', 'information'), ('53', 'information', 'obl', '51', 'received'), ('54', 'about', 'case', '57', 'news'), ('55', 'bad', 'amod', '56', 'Fyffes'), ('56', 'Fyffes', 'compound', '57', 'news'), ('57', 'news', 'nmod', '53', 'information'), ('58', 'in', 'case', '60', 'pipeline'), ('59', 'the', 'det', '60', 'pipeline'), ('60', 'pipeline', 'nmod', '57', 'news'), ('61', '.', 'punct', '5', 'authorized')]\",\"[('1', 'The'), ('2', 'latest'), ('3', 'investigation'), ('4', 'was'), ('5', 'authorized'), ('6', 'after'), ('7', 'the'), ('8', 'Supreme'), ('9', 'Court'), ('10', 'in'), ('11', '2007'), ('12', 'found'), ('13', 'DCC'), ('14', 'and'), ('15', 'its'), ('16', 'founder'), ('17', ','), ('18', 'Jim'), ('19', 'Flavin'), ('20', ','), ('21', 'guilty'), ('22', 'of'), ('23', 'selling'), ('24', 'DCC'), ('25', \"\"'s\"\"), ('26', '('), ('27', 'EURO'), ('28', ')'), ('29', '106'), ('30', 'million'), ('31', '('), ('32', 'then'), ('33', '$'), ('34', '130'), ('35', 'million'), ('36', ')'), ('37', 'stake'), ('38', 'in'), ('39', 'Fyffes'), ('40', 'after'), ('41', 'Flavin'), ('42', '-'), ('43', 'also'), ('44', 'a'), ('45', 'Fyffes'), ('46', 'director'), ('47', 'at'), ('48', 'the'), ('49', 'time'), ('50', '-'), ('51', 'received'), ('52', 'inside'), ('53', 'information'), ('54', 'about'), ('55', 'bad'), ('56', 'Fyffes'), ('57', 'news'), ('58', 'in'), ('59', 'the'), ('60', 'pipeline'), ('61', '.')]\",\"[('1', 'the'), ('2', 'latest'), ('3', 'investigation'), ('4', 'be'), ('5', 'authorize'), ('6', 'after'), ('7', 'the'), ('8', 'Supreme'), ('9', 'Court'), ('10', 'in'), ('11', '2007'), ('12', 'find'), ('13', 'dcc'), ('14', 'and'), ('15', 'its'), ('16', 'founder'), ('17', ','), ('18', 'Jim'), ('19', 'Flavin'), ('20', ','), ('21', 'guilty'), ('22', 'of'), ('23', 'sell'), ('24', 'dcc'), ('25', \"\"'s\"\"), ('26', '('), ('27', 'EURO'), ('28', ')'), ('29', '106'), ('30', 'million'), ('31', '('), ('32', 'then'), ('33', '$'), ('34', '130'), ('35', 'million'), ('36', ')'), ('37', 'stake'), ('38', 'in'), ('39', 'fyffe'), ('40', 'after'), ('41', 'Flavin'), ('42', '-'), ('43', 'also'), ('44', 'a'), ('45', 'fyffe'), ('46', 'director'), ('47', 'at'), ('48', 'the'), ('49', 'time'), ('50', '-'), ('51', 'receive'), ('52', 'inside'), ('53', 'information'), ('54', 'about'), ('55', 'bad'), ('56', 'fyffe'), ('57', 'news'), ('58', 'in'), ('59', 'the'), ('60', 'pipeline'), ('61', '.')]\",\n",
            "\"['The', 'event', 'is', 'a', 'response', 'to', 'a', 'White', 'House', 'immigration', 'reform', 'proposal', 'in', 'March', ',', 'said', 'Chung-Wha', 'Hong', ',', 'executive', 'director', 'of', 'the', 'New', 'York', 'Immigration', 'Coalition', '.']\",3,\"The event is a response to a White House immigration reform proposal in March, said Chung-Wha Hong, executive director of the New York Immigration Coalition.\",New York Immigration Coalition,March,26,29,14,14,\"[('1', 'The', 'det', '2', 'event'), ('2', 'event', 'nsubj', '5', 'response'), ('3', 'is', 'cop', '5', 'response'), ('4', 'a', 'det', '5', 'response'), ('5', 'response', 'ccomp', '16', 'said'), ('6', 'to', 'case', '12', 'proposal'), ('7', 'a', 'det', '12', 'proposal'), ('8', 'White', 'compound', '9', 'House'), ('9', 'House', 'compound', '12', 'proposal'), ('10', 'immigration', 'compound', '11', 'reform'), ('11', 'reform', 'compound', '12', 'proposal'), ('12', 'proposal', 'nmod', '5', 'response'), ('13', 'in', 'case', '14', 'March'), ('14', 'March', 'nmod', '12', 'proposal'), ('15', ',', 'punct', '16', 'said'), ('16', 'said', 'root', '0', 'ROOT'), ('17', 'Chung', 'nsubj', '16', 'said'), ('18', '-', 'punct', '17', 'Chung'), ('19', 'Wha', 'flat', '17', 'Chung'), ('20', 'Hong', 'flat', '17', 'Chung'), ('21', ',', 'punct', '17', 'Chung'), ('22', 'executive', 'amod', '23', 'director'), ('23', 'director', 'appos', '17', 'Chung'), ('24', 'of', 'case', '29', 'Coalition'), ('25', 'the', 'det', '29', 'Coalition'), ('26', 'New', 'compound', '27', 'York'), ('27', 'York', 'compound', '29', 'Coalition'), ('28', 'Immigration', 'compound', '29', 'Coalition'), ('29', 'Coalition', 'nmod', '23', 'director'), ('30', '.', 'punct', '16', 'said')]\",\"[('1', 'The'), ('2', 'event'), ('3', 'is'), ('4', 'a'), ('5', 'response'), ('6', 'to'), ('7', 'a'), ('8', 'White'), ('9', 'House'), ('10', 'immigration'), ('11', 'reform'), ('12', 'proposal'), ('13', 'in'), ('14', 'March'), ('15', ','), ('16', 'said'), ('17', 'Chung'), ('18', '-'), ('19', 'Wha'), ('20', 'Hong'), ('21', ','), ('22', 'executive'), ('23', 'director'), ('24', 'of'), ('25', 'the'), ('26', 'New'), ('27', 'York'), ('28', 'Immigration'), ('29', 'Coalition'), ('30', '.')]\",\"[('1', 'the'), ('2', 'event'), ('3', 'be'), ('4', 'a'), ('5', 'response'), ('6', 'to'), ('7', 'a'), ('8', 'White'), ('9', 'House'), ('10', 'immigration'), ('11', 'reform'), ('12', 'proposal'), ('13', 'in'), ('14', 'March'), ('15', ','), ('16', 'say'), ('17', 'Chung'), ('18', '-'), ('19', 'Wha'), ('20', 'Hong'), ('21', ','), ('22', 'executive'), ('23', 'director'), ('24', 'of'), ('25', 'the'), ('26', 'New'), ('27', 'York'), ('28', 'Immigration'), ('29', 'Coalition'), ('30', '.')]\",\n",
            "\"['Manning', 'was', 'prime', 'minister', 'in', '1991', ',', 'and', 'called', 'a', 'snap', 'elections', 'in', '1995', 'which', 'he', 'lost', 'to', 'the', 'UNC', 'after', 'the', 'party', 'entered', 'an', 'electoral', 'arrangement', 'with', 'the', 'National', 'Alliance', 'for', 'Reconstruction', '.']\",4,\"Manning was prime minister in 1991, and called a snap elections in 1995 which he lost to the UNC after the party entered an electoral arrangement with the National Alliance for Reconstruction.\",UNC,National Alliance for Reconstruction,20,20,30,33,\"[('1', 'Manning', 'nsubj', '4', 'minister'), ('2', 'was', 'cop', '4', 'minister'), ('3', 'prime', 'amod', '4', 'minister'), ('4', 'minister', 'root', '0', 'ROOT'), ('5', 'in', 'case', '6', '1991'), ('6', '1991', 'nmod', '4', 'minister'), ('7', ',', 'punct', '9', 'called'), ('8', 'and', 'cc', '9', 'called'), ('9', 'called', 'conj', '4', 'minister'), ('10', 'a', 'det', '12', 'elections'), ('11', 'snap', 'compound', '12', 'elections'), ('12', 'elections', 'obj', '9', 'called'), ('13', 'in', 'case', '14', '1995'), ('14', '1995', 'obl', '9', 'called'), ('15', 'which', 'obj', '17', 'lost'), ('16', 'he', 'nsubj', '17', 'lost'), ('17', 'lost', 'acl:relcl', '12', 'elections'), ('18', 'to', 'case', '20', 'UNC'), ('19', 'the', 'det', '20', 'UNC'), ('20', 'UNC', 'obl', '17', 'lost'), ('21', 'after', 'mark', '24', 'entered'), ('22', 'the', 'det', '23', 'party'), ('23', 'party', 'nsubj', '24', 'entered'), ('24', 'entered', 'advcl', '17', 'lost'), ('25', 'an', 'det', '27', 'arrangement'), ('26', 'electoral', 'amod', '27', 'arrangement'), ('27', 'arrangement', 'obj', '24', 'entered'), ('28', 'with', 'case', '31', 'Alliance'), ('29', 'the', 'det', '31', 'Alliance'), ('30', 'National', 'compound', '31', 'Alliance'), ('31', 'Alliance', 'nmod', '27', 'arrangement'), ('32', 'for', 'case', '33', 'Reconstruction'), ('33', 'Reconstruction', 'nmod', '31', 'Alliance'), ('34', '.', 'punct', '4', 'minister')]\",\"[('1', 'Manning'), ('2', 'was'), ('3', 'prime'), ('4', 'minister'), ('5', 'in'), ('6', '1991'), ('7', ','), ('8', 'and'), ('9', 'called'), ('10', 'a'), ('11', 'snap'), ('12', 'elections'), ('13', 'in'), ('14', '1995'), ('15', 'which'), ('16', 'he'), ('17', 'lost'), ('18', 'to'), ('19', 'the'), ('20', 'UNC'), ('21', 'after'), ('22', 'the'), ('23', 'party'), ('24', 'entered'), ('25', 'an'), ('26', 'electoral'), ('27', 'arrangement'), ('28', 'with'), ('29', 'the'), ('30', 'National'), ('31', 'Alliance'), ('32', 'for'), ('33', 'Reconstruction'), ('34', '.')]\",\"[('1', 'man'), ('2', 'be'), ('3', 'prime'), ('4', 'minister'), ('5', 'in'), ('6', '1991'), ('7', ','), ('8', 'and'), ('9', 'call'), ('10', 'a'), ('11', 'snap'), ('12', 'election'), ('13', 'in'), ('14', '1995'), ('15', 'which'), ('16', 'he'), ('17', 'lose'), ('18', 'to'), ('19', 'the'), ('20', 'UNC'), ('21', 'after'), ('22', 'the'), ('23', 'party'), ('24', 'enter'), ('25', 'a'), ('26', 'electoral'), ('27', 'arrangement'), ('28', 'with'), ('29', 'the'), ('30', 'National'), ('31', 'Alliance'), ('32', 'for'), ('33', 'reconstruction'), ('34', '.')]\",\n",
            "\"['Christine', 'Egerszegi-Obrist', '-LRB-', 'l', '-RRB-', 'and', 'Haddad-Adel']\",5,Christine Egerszegi-Obrist (l) and Haddad-Adel,Haddad - Adel,Christine Egerszegi- Obrist,8,10,1,3,\"[('1', 'Christine', 'root', '0', 'ROOT'), ('2', 'Egerszegi-', 'flat', '1', 'Christine'), ('3', 'Obrist', 'flat', '1', 'Christine'), ('4', '(', 'punct', '5', 'l'), ('5', 'l', 'list', '1', 'Christine'), ('6', ')', 'punct', '5', 'l'), ('7', 'and', 'cc', '8', 'Haddad'), ('8', 'Haddad', 'conj', '1', 'Christine'), ('9', '-', 'punct', '1', 'Christine'), ('10', 'Adel', 'appos', '8', 'Haddad')]\",\"[('1', 'Christine'), ('2', 'Egerszegi-'), ('3', 'Obrist'), ('4', '('), ('5', 'l'), ('6', ')'), ('7', 'and'), ('8', 'Haddad'), ('9', '-'), ('10', 'Adel')]\",\"[('1', 'Christine'), ('2', 'Egerszegi-'), ('3', 'Obrist'), ('4', '('), ('5', 'l'), ('6', ')'), ('7', 'and'), ('8', 'Haddad'), ('9', '-'), ('10', 'Adel')]\",\n",
            "\"['Al-Hubayshi', 'explained', 'that', ',', 'far', 'from', 'being', 'a', 'mastermind', ',', 'Abu', 'Zubaydah', 'was', 'responsible', 'for', '``', 'receiving', 'people', 'and', 'financing', 'the', 'camp', ',', \"\"''\"\", 'that', 'he', 'once', 'bought', 'him', 'travel', 'tickets', ',', 'and', 'that', 'he', 'was', 'the', 'man', 'he', 'went', 'to', 'when', 'he', 'needed', 'a', 'replacement', 'passport', '.']\",6,\"Al-Hubayshi explained that, far from being a mastermind, Abu Zubaydah was responsible for \"\"receiving people and financing the camp ,\"\" that he once bought him travel tickets, and that he was the man he went to when he needed a replacement passport.\",he,he,45,45,28,28,\"[('1', 'Al', 'nsubj', '4', 'explained'), ('2', '-', 'punct', '1', 'Al'), ('3', 'Hubayshi', 'flat', '1', 'Al'), ('4', 'explained', 'root', '0', 'ROOT'), ('5', 'that', 'mark', '16', 'responsible'), ('6', ',', 'punct', '16', 'responsible'), ('7', 'far', 'advmod', '16', 'responsible'), ('8', 'from', 'mark', '11', 'mastermind'), ('9', 'being', 'cop', '11', 'mastermind'), ('10', 'a', 'det', '11', 'mastermind'), ('11', 'mastermind', 'advcl', '7', 'far'), ('12', ',', 'punct', '16', 'responsible'), ('13', 'Abu', 'nsubj', '16', 'responsible'), ('14', 'Zubaydah', 'flat', '13', 'Abu'), ('15', 'was', 'cop', '16', 'responsible'), ('16', 'responsible', 'ccomp', '4', 'explained'), ('17', 'for', 'mark', '19', 'receiving'), ('18', '\"\"', 'punct', '19', 'receiving'), ('19', 'receiving', 'advcl', '16', 'responsible'), ('20', 'people', 'obj', '19', 'receiving'), ('21', 'and', 'cc', '22', 'financing'), ('22', 'financing', 'conj', '19', 'receiving'), ('23', 'the', 'det', '24', 'camp'), ('24', 'camp', 'obj', '22', 'financing'), ('25', ',', 'punct', '19', 'receiving'), ('26', '\"\"', 'punct', '19', 'receiving'), ('27', 'that', 'mark', '30', 'bought'), ('28', 'he', 'nsubj', '30', 'bought'), ('29', 'once', 'advmod', '30', 'bought'), ('30', 'bought', 'conj', '16', 'responsible'), ('31', 'him', 'iobj', '30', 'bought'), ('32', 'travel', 'compound', '33', 'tickets'), ('33', 'tickets', 'obj', '30', 'bought'), ('34', ',', 'punct', '40', 'man'), ('35', 'and', 'cc', '40', 'man'), ('36', 'that', 'mark', '40', 'man'), ('37', 'he', 'nsubj', '40', 'man'), ('38', 'was', 'cop', '40', 'man'), ('39', 'the', 'det', '40', 'man'), ('40', 'man', 'conj', '30', 'bought'), ('41', 'he', 'nsubj', '42', 'went'), ('42', 'went', 'acl:relcl', '40', 'man'), ('43', 'to', 'obl', '42', 'went'), ('44', 'when', 'mark', '46', 'needed'), ('45', 'he', 'nsubj', '46', 'needed'), ('46', 'needed', 'advcl', '42', 'went'), ('47', 'a', 'det', '49', 'passport'), ('48', 'replacement', 'compound', '49', 'passport'), ('49', 'passport', 'obj', '46', 'needed'), ('50', '.', 'punct', '4', 'explained')]\",\"[('1', 'Al'), ('2', '-'), ('3', 'Hubayshi'), ('4', 'explained'), ('5', 'that'), ('6', ','), ('7', 'far'), ('8', 'from'), ('9', 'being'), ('10', 'a'), ('11', 'mastermind'), ('12', ','), ('13', 'Abu'), ('14', 'Zubaydah'), ('15', 'was'), ('16', 'responsible'), ('17', 'for'), ('18', '\"\"'), ('19', 'receiving'), ('20', 'people'), ('21', 'and'), ('22', 'financing'), ('23', 'the'), ('24', 'camp'), ('25', ','), ('26', '\"\"'), ('27', 'that'), ('28', 'he'), ('29', 'once'), ('30', 'bought'), ('31', 'him'), ('32', 'travel'), ('33', 'tickets'), ('34', ','), ('35', 'and'), ('36', 'that'), ('37', 'he'), ('38', 'was'), ('39', 'the'), ('40', 'man'), ('41', 'he'), ('42', 'went'), ('43', 'to'), ('44', 'when'), ('45', 'he'), ('46', 'needed'), ('47', 'a'), ('48', 'replacement'), ('49', 'passport'), ('50', '.')]\",\"[('1', 'Al'), ('2', '-'), ('3', 'Hubayshi'), ('4', 'explain'), ('5', 'that'), ('6', ','), ('7', 'far'), ('8', 'from'), ('9', 'be'), ('10', 'a'), ('11', 'mastermind'), ('12', ','), ('13', 'Abu'), ('14', 'Zubaydah'), ('15', 'be'), ('16', 'responsible'), ('17', 'for'), ('18', '\"\"'), ('19', 'receive'), ('20', 'people'), ('21', 'and'), ('22', 'finance'), ('23', 'the'), ('24', 'camp'), ('25', ','), ('26', '\"\"'), ('27', 'that'), ('28', 'he'), ('29', 'once'), ('30', 'buy'), ('31', 'he'), ('32', 'travel'), ('33', 'ticket'), ('34', ','), ('35', 'and'), ('36', 'that'), ('37', 'he'), ('38', 'be'), ('39', 'the'), ('40', 'man'), ('41', 'he'), ('42', 'go'), ('43', 'to'), ('44', 'when'), ('45', 'he'), ('46', 'need'), ('47', 'a'), ('48', 'replacement'), ('49', 'passport'), ('50', '.')]\",\n"
          ],
          "name": "stdout"
        }
      ]
    }
  ]
}
