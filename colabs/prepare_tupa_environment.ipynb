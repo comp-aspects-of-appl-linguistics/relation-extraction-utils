{
  "nbformat": 4,
  "nbformat_minor": 0,
  "metadata": {
    "colab": {
      "name": "prepare-tupa-environment.ipynb",
      "version": "0.3.2",
      "provenance": []
    },
    "kernelspec": {
      "name": "python3",
      "display_name": "Python 3"
    }
  },
  "cells": [
    {
      "cell_type": "code",
      "metadata": {
        "id": "1mdU4RJV4Qve",
        "colab_type": "code",
        "colab": {}
      },
      "source": [
        "!git clone https://github.com/danielhers/ucca.git"
      ],
      "execution_count": 0,
      "outputs": []
    },
    {
      "cell_type": "code",
      "metadata": {
        "id": "JqVcoi3iBrCv",
        "colab_type": "code",
        "colab": {}
      },
      "source": [
        "!pip install -e /content/ucca"
      ],
      "execution_count": 0,
      "outputs": []
    },
    {
      "cell_type": "code",
      "metadata": {
        "id": "ko86dcV-CZYe",
        "colab_type": "code",
        "colab": {}
      },
      "source": [
        "!git clone https://github.com/OfirArviv/tupa.git"
      ],
      "execution_count": 0,
      "outputs": []
    },
    {
      "cell_type": "code",
      "metadata": {
        "id": "g9ZYNEfcCoFw",
        "colab_type": "code",
        "colab": {}
      },
      "source": [
        "%cd /content/tupa"
      ],
      "execution_count": 0,
      "outputs": []
    },
    {
      "cell_type": "code",
      "metadata": {
        "id": "_Uw82jSvCt9z",
        "colab_type": "code",
        "colab": {}
      },
      "source": [
        "!git checkout -b  remotes/origin/elmo_weighted_w_special_tokens_to_lstm_mlp"
      ],
      "execution_count": 0,
      "outputs": []
    },
    {
      "cell_type": "code",
      "metadata": {
        "id": "f6mDCH5FCxoK",
        "colab_type": "code",
        "colab": {}
      },
      "source": [
        "!pip install -e /content/tupa"
      ],
      "execution_count": 0,
      "outputs": []
    },
    {
      "cell_type": "code",
      "metadata": {
        "id": "quxhsH59EyWh",
        "colab_type": "code",
        "colab": {}
      },
      "source": [
        "!python -m spacy download en_core_web_md"
      ],
      "execution_count": 0,
      "outputs": []
    },
    {
      "cell_type": "code",
      "metadata": {
        "id": "i9VbHo4GXfeW",
        "colab_type": "code",
        "colab": {}
      },
      "source": [
        "# Download elmo_4_test_sentences_1\n",
        "\n",
        "!wget -O /tmp/gdrive https://docs.google.com/uc?id=0B3X9GlR6EmbnWksyTEtCM0VfaFE&export=download\n",
        "!chmod +x /tmp/gdrive\n",
        "!/tmp/gdrive download -r 1Lg2nnocplvi37TJe9rP3Tduh98urUKNx\n",
        "!mkdir models\n",
        "!mv elmo_4_test_sentences_1 models/"
      ],
      "execution_count": 0,
      "outputs": []
    },
    {
      "cell_type": "code",
      "metadata": {
        "id": "SDYYNMGHDL8c",
        "colab_type": "code",
        "colab": {}
      },
      "source": [
        "%%bash \n",
        "\n",
        "cat > input << EOF\n",
        "It's generally a good approach to read instructions properly before jumping to conclusions\n",
        "EOF"
      ],
      "execution_count": 0,
      "outputs": []
    },
    {
      "cell_type": "code",
      "metadata": {
        "id": "_eWQv9ClDdLf",
        "colab_type": "code",
        "colab": {}
      },
      "source": [
        "!time python -m tupa input -m models/elmo_4_test_sentences_1/elmo_4_test_sentences_1"
      ],
      "execution_count": 0,
      "outputs": []
    }
  ]
}