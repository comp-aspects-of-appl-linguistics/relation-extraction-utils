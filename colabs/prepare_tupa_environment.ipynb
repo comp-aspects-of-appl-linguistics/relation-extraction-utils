{
  "nbformat": 4,
  "nbformat_minor": 0,
  "metadata": {
    "colab": {
      "name": "prepare-tupa-environment.ipynb",
      "version": "0.3.2",
      "provenance": [],
      "include_colab_link": true
    },
    "kernelspec": {
      "name": "python3",
      "display_name": "Python 3"
    }
  },
  "cells": [
    {
      "cell_type": "markdown",
      "metadata": {
        "id": "view-in-github",
        "colab_type": "text"
      },
      "source": [
        "<a href=\"https://colab.research.google.com/github/comp-aspects-of-appl-linguistics/relation-extraction-utils/blob/master/colabs/prepare_tupa_environment.ipynb\" target=\"_parent\"><img src=\"https://colab.research.google.com/assets/colab-badge.svg\" alt=\"Open In Colab\"/></a>"
      ]
    },
    {
      "cell_type": "code",
      "metadata": {
        "id": "1mdU4RJV4Qve",
        "colab_type": "code",
        "colab": {
          "base_uri": "https://localhost:8080/",
          "height": 144
        },
        "outputId": "cf50122a-bf99-4390-d244-96c2ee9eec9a"
      },
      "source": [
        "!git clone https://github.com/danielhers/ucca.git"
      ],
      "execution_count": 1,
      "outputs": [
        {
          "output_type": "stream",
          "text": [
            "Cloning into 'ucca'...\n",
            "remote: Enumerating objects: 46, done.\u001b[K\n",
            "remote: Counting objects: 100% (46/46), done.\u001b[K\n",
            "remote: Compressing objects: 100% (34/34), done.\u001b[K\n",
            "remote: Total 10705 (delta 21), reused 24 (delta 10), pack-reused 10659\u001b[K\n",
            "Receiving objects: 100% (10705/10705), 3.84 MiB | 15.29 MiB/s, done.\n",
            "Resolving deltas: 100% (7836/7836), done.\n"
          ],
          "name": "stdout"
        }
      ]
    },
    {
      "cell_type": "code",
      "metadata": {
        "id": "JqVcoi3iBrCv",
        "colab_type": "code",
        "colab": {
          "base_uri": "https://localhost:8080/",
          "height": 691
        },
        "outputId": "10604d86-5d7e-4ce2-b937-f09b07c7f610"
      },
      "source": [
        "!pip install -e /content/ucca"
      ],
      "execution_count": 2,
      "outputs": [
        {
          "output_type": "stream",
          "text": [
            "Obtaining file:///content/ucca\n",
            "Requirement already satisfied: numpy>=1.15.0 in /usr/local/lib/python3.6/dist-packages (from UCCA==1.2.2) (1.16.4)\n",
            "Collecting spacy==2.1.3 (from UCCA==1.2.2)\n",
            "\u001b[?25l  Downloading https://files.pythonhosted.org/packages/52/da/3a1c54694c2d2f40df82f38a19ae14c6eb24a5a1a0dae87205ebea7a84d8/spacy-2.1.3-cp36-cp36m-manylinux1_x86_64.whl (27.7MB)\n",
            "\u001b[K     |████████████████████████████████| 27.7MB 1.8MB/s \n",
            "\u001b[?25hRequirement already satisfied: requests>=2.18.4 in /usr/local/lib/python3.6/dist-packages (from UCCA==1.2.2) (2.21.0)\n",
            "Requirement already satisfied: tqdm>=4.23.3 in /usr/local/lib/python3.6/dist-packages (from UCCA==1.2.2) (4.28.1)\n",
            "Requirement already satisfied: cymem<2.1.0,>=2.0.2 in /usr/local/lib/python3.6/dist-packages (from spacy==2.1.3->UCCA==1.2.2) (2.0.2)\n",
            "Requirement already satisfied: jsonschema<3.0.0,>=2.6.0 in /usr/local/lib/python3.6/dist-packages (from spacy==2.1.3->UCCA==1.2.2) (2.6.0)\n",
            "Collecting srsly<1.1.0,>=0.0.5 (from spacy==2.1.3->UCCA==1.2.2)\n",
            "\u001b[?25l  Downloading https://files.pythonhosted.org/packages/6b/97/47753e3393aa4b18de9f942fac26f18879d1ae950243a556888f389d1398/srsly-0.0.5-cp36-cp36m-manylinux1_x86_64.whl (180kB)\n",
            "\u001b[K     |████████████████████████████████| 184kB 39.2MB/s \n",
            "\u001b[?25hRequirement already satisfied: plac<1.0.0,>=0.9.6 in /usr/local/lib/python3.6/dist-packages (from spacy==2.1.3->UCCA==1.2.2) (0.9.6)\n",
            "Requirement already satisfied: preshed<2.1.0,>=2.0.1 in /usr/local/lib/python3.6/dist-packages (from spacy==2.1.3->UCCA==1.2.2) (2.0.1)\n",
            "Collecting wasabi<1.1.0,>=0.2.0 (from spacy==2.1.3->UCCA==1.2.2)\n",
            "  Downloading https://files.pythonhosted.org/packages/f4/c1/d76ccdd12c716be79162d934fe7de4ac8a318b9302864716dde940641a79/wasabi-0.2.2-py3-none-any.whl\n",
            "Requirement already satisfied: murmurhash<1.1.0,>=0.28.0 in /usr/local/lib/python3.6/dist-packages (from spacy==2.1.3->UCCA==1.2.2) (1.0.2)\n",
            "Collecting blis<0.3.0,>=0.2.2 (from spacy==2.1.3->UCCA==1.2.2)\n",
            "\u001b[?25l  Downloading https://files.pythonhosted.org/packages/34/46/b1d0bb71d308e820ed30316c5f0a017cb5ef5f4324bcbc7da3cf9d3b075c/blis-0.2.4-cp36-cp36m-manylinux1_x86_64.whl (3.2MB)\n",
            "\u001b[K     |████████████████████████████████| 3.2MB 32.1MB/s \n",
            "\u001b[?25hCollecting thinc<7.1.0,>=7.0.2 (from spacy==2.1.3->UCCA==1.2.2)\n",
            "\u001b[?25l  Downloading https://files.pythonhosted.org/packages/a9/f1/3df317939a07b2fc81be1a92ac10bf836a1d87b4016346b25f8b63dee321/thinc-7.0.4-cp36-cp36m-manylinux1_x86_64.whl (2.1MB)\n",
            "\u001b[K     |████████████████████████████████| 2.1MB 36.9MB/s \n",
            "\u001b[?25hRequirement already satisfied: urllib3<1.25,>=1.21.1 in /usr/local/lib/python3.6/dist-packages (from requests>=2.18.4->UCCA==1.2.2) (1.24.3)\n",
            "Requirement already satisfied: certifi>=2017.4.17 in /usr/local/lib/python3.6/dist-packages (from requests>=2.18.4->UCCA==1.2.2) (2019.3.9)\n",
            "Requirement already satisfied: idna<2.9,>=2.5 in /usr/local/lib/python3.6/dist-packages (from requests>=2.18.4->UCCA==1.2.2) (2.8)\n",
            "Requirement already satisfied: chardet<3.1.0,>=3.0.2 in /usr/local/lib/python3.6/dist-packages (from requests>=2.18.4->UCCA==1.2.2) (3.0.4)\n",
            "Installing collected packages: srsly, wasabi, blis, thinc, spacy, UCCA\n",
            "  Found existing installation: thinc 6.12.1\n",
            "    Uninstalling thinc-6.12.1:\n",
            "      Successfully uninstalled thinc-6.12.1\n",
            "  Found existing installation: spacy 2.0.18\n",
            "    Uninstalling spacy-2.0.18:\n",
            "      Successfully uninstalled spacy-2.0.18\n",
            "  Running setup.py develop for UCCA\n",
            "Successfully installed UCCA blis-0.2.4 spacy-2.1.3 srsly-0.0.5 thinc-7.0.4 wasabi-0.2.2\n"
          ],
          "name": "stdout"
        }
      ]
    },
    {
      "cell_type": "code",
      "metadata": {
        "id": "ko86dcV-CZYe",
        "colab_type": "code",
        "colab": {
          "base_uri": "https://localhost:8080/",
          "height": 144
        },
        "outputId": "6c813966-2bce-413c-b837-6bae50fddf3b"
      },
      "source": [
        "!git clone https://github.com/OfirArviv/tupa.git"
      ],
      "execution_count": 3,
      "outputs": [
        {
          "output_type": "stream",
          "text": [
            "Cloning into 'tupa'...\n",
            "remote: Enumerating objects: 101, done.\u001b[K\n",
            "remote: Counting objects:   0% (1/101)   \u001b[K\rremote: Counting objects:   1% (2/101)   \u001b[K\rremote: Counting objects:   2% (3/101)   \u001b[K\rremote: Counting objects:   3% (4/101)   \u001b[K\rremote: Counting objects:   4% (5/101)   \u001b[K\rremote: Counting objects:   5% (6/101)   \u001b[K\rremote: Counting objects:   6% (7/101)   \u001b[K\rremote: Counting objects:   7% (8/101)   \u001b[K\rremote: Counting objects:   8% (9/101)   \u001b[K\rremote: Counting objects:   9% (10/101)   \u001b[K\rremote: Counting objects:  10% (11/101)   \u001b[K\rremote: Counting objects:  11% (12/101)   \u001b[K\rremote: Counting objects:  12% (13/101)   \u001b[K\rremote: Counting objects:  13% (14/101)   \u001b[K\rremote: Counting objects:  14% (15/101)   \u001b[K\rremote: Counting objects:  15% (16/101)   \u001b[K\rremote: Counting objects:  16% (17/101)   \u001b[K\rremote: Counting objects:  17% (18/101)   \u001b[K\rremote: Counting objects:  18% (19/101)   \u001b[K\rremote: Counting objects:  19% (20/101)   \u001b[K\rremote: Counting objects:  20% (21/101)   \u001b[K\rremote: Counting objects:  21% (22/101)   \u001b[K\rremote: Counting objects:  22% (23/101)   \u001b[K\rremote: Counting objects:  23% (24/101)   \u001b[K\rremote: Counting objects:  24% (25/101)   \u001b[K\rremote: Counting objects:  25% (26/101)   \u001b[K\rremote: Counting objects:  26% (27/101)   \u001b[K\rremote: Counting objects:  27% (28/101)   \u001b[K\rremote: Counting objects:  28% (29/101)   \u001b[K\rremote: Counting objects:  29% (30/101)   \u001b[K\rremote: Counting objects:  30% (31/101)   \u001b[K\rremote: Counting objects:  31% (32/101)   \u001b[K\rremote: Counting objects:  32% (33/101)   \u001b[K\rremote: Counting objects:  33% (34/101)   \u001b[K\rremote: Counting objects:  34% (35/101)   \u001b[K\rremote: Counting objects:  35% (36/101)   \u001b[K\rremote: Counting objects:  36% (37/101)   \u001b[K\rremote: Counting objects:  37% (38/101)   \u001b[K\rremote: Counting objects:  38% (39/101)   \u001b[K\rremote: Counting objects:  39% (40/101)   \u001b[K\rremote: Counting objects:  40% (41/101)   \u001b[K\rremote: Counting objects:  41% (42/101)   \u001b[K\rremote: Counting objects:  42% (43/101)   \u001b[K\rremote: Counting objects:  43% (44/101)   \u001b[K\rremote: Counting objects:  44% (45/101)   \u001b[K\rremote: Counting objects:  45% (46/101)   \u001b[K\rremote: Counting objects:  46% (47/101)   \u001b[K\rremote: Counting objects:  47% (48/101)   \u001b[K\rremote: Counting objects:  48% (49/101)   \u001b[K\rremote: Counting objects:  49% (50/101)   \u001b[K\rremote: Counting objects:  50% (51/101)   \u001b[K\rremote: Counting objects:  51% (52/101)   \u001b[K\rremote: Counting objects:  52% (53/101)   \u001b[K\rremote: Counting objects:  53% (54/101)   \u001b[K\rremote: Counting objects:  54% (55/101)   \u001b[K\rremote: Counting objects:  55% (56/101)   \u001b[K\rremote: Counting objects:  56% (57/101)   \u001b[K\rremote: Counting objects:  57% (58/101)   \u001b[K\rremote: Counting objects:  58% (59/101)   \u001b[K\rremote: Counting objects:  59% (60/101)   \u001b[K\rremote: Counting objects:  60% (61/101)   \u001b[K\rremote: Counting objects:  61% (62/101)   \u001b[K\rremote: Counting objects:  62% (63/101)   \u001b[K\rremote: Counting objects:  63% (64/101)   \u001b[K\rremote: Counting objects:  64% (65/101)   \u001b[K\rremote: Counting objects:  65% (66/101)   \u001b[K\rremote: Counting objects:  66% (67/101)   \u001b[K\rremote: Counting objects:  67% (68/101)   \u001b[K\rremote: Counting objects:  68% (69/101)   \u001b[K\rremote: Counting objects:  69% (70/101)   \u001b[K\rremote: Counting objects:  70% (71/101)   \u001b[K\rremote: Counting objects:  71% (72/101)   \u001b[K\rremote: Counting objects:  72% (73/101)   \u001b[K\rremote: Counting objects:  73% (74/101)   \u001b[K\rremote: Counting objects:  74% (75/101)   \u001b[K\rremote: Counting objects:  75% (76/101)   \u001b[K\rremote: Counting objects:  76% (77/101)   \u001b[K\rremote: Counting objects:  77% (78/101)   \u001b[K\rremote: Counting objects:  78% (79/101)   \u001b[K\rremote: Counting objects:  79% (80/101)   \u001b[K\rremote: Counting objects:  80% (81/101)   \u001b[K\rremote: Counting objects:  81% (82/101)   \u001b[K\rremote: Counting objects:  82% (83/101)   \u001b[K\rremote: Counting objects:  83% (84/101)   \u001b[K\rremote: Counting objects:  84% (85/101)   \u001b[K\rremote: Counting objects:  85% (86/101)   \u001b[K\rremote: Counting objects:  86% (87/101)   \u001b[K\rremote: Counting objects:  87% (88/101)   \u001b[K\rremote: Counting objects:  88% (89/101)   \u001b[K\rremote: Counting objects:  89% (90/101)   \u001b[K\rremote: Counting objects:  90% (91/101)   \u001b[K\rremote: Counting objects:  91% (92/101)   \u001b[K\rremote: Counting objects:  92% (93/101)   \u001b[K\rremote: Counting objects:  93% (94/101)   \u001b[K\rremote: Counting objects:  94% (95/101)   \u001b[K\rremote: Counting objects:  95% (96/101)   \u001b[K\rremote: Counting objects:  96% (97/101)   \u001b[K\rremote: Counting objects:  97% (98/101)   \u001b[K\rremote: Counting objects:  98% (99/101)   \u001b[K\rremote: Counting objects:  99% (100/101)   \u001b[K\rremote: Counting objects: 100% (101/101)   \u001b[K\rremote: Counting objects: 100% (101/101), done.\u001b[K\n",
            "remote: Compressing objects:   1% (1/59)   \u001b[K\rremote: Compressing objects:   3% (2/59)   \u001b[K\rremote: Compressing objects:   5% (3/59)   \u001b[K\rremote: Compressing objects:   6% (4/59)   \u001b[K\rremote: Compressing objects:   8% (5/59)   \u001b[K\rremote: Compressing objects:  10% (6/59)   \u001b[K\rremote: Compressing objects:  11% (7/59)   \u001b[K\rremote: Compressing objects:  13% (8/59)   \u001b[K\rremote: Compressing objects:  15% (9/59)   \u001b[K\rremote: Compressing objects:  16% (10/59)   \u001b[K\rremote: Compressing objects:  18% (11/59)   \u001b[K\rremote: Compressing objects:  20% (12/59)   \u001b[K\rremote: Compressing objects:  22% (13/59)   \u001b[K\rremote: Compressing objects:  23% (14/59)   \u001b[K\rremote: Compressing objects:  25% (15/59)   \u001b[K\rremote: Compressing objects:  27% (16/59)   \u001b[K\rremote: Compressing objects:  28% (17/59)   \u001b[K\rremote: Compressing objects:  30% (18/59)   \u001b[K\rremote: Compressing objects:  32% (19/59)   \u001b[K\rremote: Compressing objects:  33% (20/59)   \u001b[K\rremote: Compressing objects:  35% (21/59)   \u001b[K\rremote: Compressing objects:  37% (22/59)   \u001b[K\rremote: Compressing objects:  38% (23/59)   \u001b[K\rremote: Compressing objects:  40% (24/59)   \u001b[K\rremote: Compressing objects:  42% (25/59)   \u001b[K\rremote: Compressing objects:  44% (26/59)   \u001b[K\rremote: Compressing objects:  45% (27/59)   \u001b[K\rremote: Compressing objects:  47% (28/59)   \u001b[K\rremote: Compressing objects:  49% (29/59)   \u001b[K\rremote: Compressing objects:  50% (30/59)   \u001b[K\rremote: Compressing objects:  52% (31/59)   \u001b[K\rremote: Compressing objects:  54% (32/59)   \u001b[K\rremote: Compressing objects:  55% (33/59)   \u001b[K\rremote: Compressing objects:  57% (34/59)   \u001b[K\rremote: Compressing objects:  59% (35/59)   \u001b[K\rremote: Compressing objects:  61% (36/59)   \u001b[K\rremote: Compressing objects:  62% (37/59)   \u001b[K\rremote: Compressing objects:  64% (38/59)   \u001b[K\rremote: Compressing objects:  66% (39/59)   \u001b[K\rremote: Compressing objects:  67% (40/59)   \u001b[K\rremote: Compressing objects:  69% (41/59)   \u001b[K\rremote: Compressing objects:  71% (42/59)   \u001b[K\rremote: Compressing objects:  72% (43/59)   \u001b[K\rremote: Compressing objects:  74% (44/59)   \u001b[K\rremote: Compressing objects:  76% (45/59)   \u001b[K\rremote: Compressing objects:  77% (46/59)   \u001b[K\rremote: Compressing objects:  79% (47/59)   \u001b[K\rremote: Compressing objects:  81% (48/59)   \u001b[K\rremote: Compressing objects:  83% (49/59)   \u001b[K\rremote: Compressing objects:  84% (50/59)   \u001b[K\rremote: Compressing objects:  86% (51/59)   \u001b[K\rremote: Compressing objects:  88% (52/59)   \u001b[K\rremote: Compressing objects:  89% (53/59)   \u001b[K\rremote: Compressing objects:  91% (54/59)   \u001b[K\rremote: Compressing objects:  93% (55/59)   \u001b[K\rremote: Compressing objects:  94% (56/59)   \u001b[K\rremote: Compressing objects:  96% (57/59)   \u001b[K\rremote: Compressing objects:  98% (58/59)   \u001b[K\rremote: Compressing objects: 100% (59/59)   \u001b[K\rremote: Compressing objects: 100% (59/59), done.\u001b[K\n",
            "Receiving objects:   0% (1/11262)   \rReceiving objects:   1% (113/11262)   \rReceiving objects:   2% (226/11262)   \rReceiving objects:   3% (338/11262)   \rReceiving objects:   4% (451/11262)   \rReceiving objects:   5% (564/11262)   \rReceiving objects:   6% (676/11262)   \rReceiving objects:   7% (789/11262)   \rReceiving objects:   8% (901/11262)   \rReceiving objects:   9% (1014/11262)   \rReceiving objects:  10% (1127/11262)   \rReceiving objects:  11% (1239/11262)   \rReceiving objects:  12% (1352/11262)   \rReceiving objects:  13% (1465/11262)   \rReceiving objects:  14% (1577/11262)   \rReceiving objects:  15% (1690/11262)   \rReceiving objects:  16% (1802/11262)   \rReceiving objects:  17% (1915/11262)   \rReceiving objects:  18% (2028/11262)   \rReceiving objects:  19% (2140/11262)   \rReceiving objects:  20% (2253/11262)   \rReceiving objects:  21% (2366/11262)   \rReceiving objects:  22% (2478/11262)   \rReceiving objects:  23% (2591/11262)   \rReceiving objects:  24% (2703/11262)   \rReceiving objects:  25% (2816/11262)   \rReceiving objects:  26% (2929/11262)   \rReceiving objects:  27% (3041/11262)   \rReceiving objects:  28% (3154/11262)   \rReceiving objects:  29% (3266/11262)   \rReceiving objects:  30% (3379/11262)   \rReceiving objects:  31% (3492/11262)   \rReceiving objects:  32% (3604/11262)   \rReceiving objects:  33% (3717/11262)   \rReceiving objects:  34% (3830/11262)   \rReceiving objects:  35% (3942/11262)   \rReceiving objects:  36% (4055/11262)   \rReceiving objects:  37% (4167/11262)   \rReceiving objects:  38% (4280/11262)   \rReceiving objects:  39% (4393/11262)   \rReceiving objects:  40% (4505/11262)   \rReceiving objects:  41% (4618/11262)   \rReceiving objects:  42% (4731/11262)   \rReceiving objects:  43% (4843/11262)   \rReceiving objects:  44% (4956/11262)   \rReceiving objects:  45% (5068/11262)   \rReceiving objects:  46% (5181/11262)   \rReceiving objects:  47% (5294/11262)   \rReceiving objects:  48% (5406/11262)   \rReceiving objects:  49% (5519/11262)   \rReceiving objects:  50% (5631/11262)   \rReceiving objects:  51% (5744/11262)   \rReceiving objects:  52% (5857/11262)   \rReceiving objects:  53% (5969/11262)   \rReceiving objects:  54% (6082/11262)   \rReceiving objects:  55% (6195/11262)   \rReceiving objects:  56% (6307/11262)   \rReceiving objects:  57% (6420/11262)   \rReceiving objects:  58% (6532/11262)   \rReceiving objects:  59% (6645/11262)   \rReceiving objects:  60% (6758/11262)   \rReceiving objects:  61% (6870/11262)   \rReceiving objects:  62% (6983/11262)   \rReceiving objects:  63% (7096/11262)   \rReceiving objects:  64% (7208/11262)   \rReceiving objects:  65% (7321/11262)   \rReceiving objects:  66% (7433/11262)   \rReceiving objects:  67% (7546/11262)   \rReceiving objects:  68% (7659/11262)   \rReceiving objects:  69% (7771/11262)   \rReceiving objects:  70% (7884/11262)   \rReceiving objects:  71% (7997/11262)   \rReceiving objects:  72% (8109/11262)   \rReceiving objects:  73% (8222/11262)   \rReceiving objects:  74% (8334/11262)   \rReceiving objects:  75% (8447/11262)   \rReceiving objects:  76% (8560/11262)   \rReceiving objects:  77% (8672/11262)   \rReceiving objects:  78% (8785/11262)   \rReceiving objects:  79% (8897/11262)   \rReceiving objects:  80% (9010/11262)   \rReceiving objects:  81% (9123/11262)   \rReceiving objects:  82% (9235/11262)   \rReceiving objects:  83% (9348/11262)   \rReceiving objects:  84% (9461/11262)   \rReceiving objects:  85% (9573/11262)   \rReceiving objects:  86% (9686/11262)   \rReceiving objects:  87% (9798/11262)   \rReceiving objects:  88% (9911/11262)   \rReceiving objects:  89% (10024/11262)   \rReceiving objects:  90% (10136/11262)   \rReceiving objects:  91% (10249/11262)   \rReceiving objects:  92% (10362/11262)   \rReceiving objects:  93% (10474/11262)   \rReceiving objects:  94% (10587/11262)   \rReceiving objects:  95% (10699/11262)   \rReceiving objects:  96% (10812/11262)   \rReceiving objects:  97% (10925/11262)   \rremote: Total 11262 (delta 78), reused 61 (delta 42), pack-reused 11161\u001b[K\n",
            "Receiving objects: 100% (11262/11262), 4.91 MiB | 25.63 MiB/s, done.\n",
            "Resolving deltas: 100% (8235/8235), done.\n"
          ],
          "name": "stdout"
        }
      ]
    },
    {
      "cell_type": "code",
      "metadata": {
        "id": "g9ZYNEfcCoFw",
        "colab_type": "code",
        "colab": {
          "base_uri": "https://localhost:8080/",
          "height": 35
        },
        "outputId": "9cc7f327-da11-4ad7-cc73-8a633c862564"
      },
      "source": [
        "%cd /content/tupa"
      ],
      "execution_count": 4,
      "outputs": [
        {
          "output_type": "stream",
          "text": [
            "/content/tupa\n"
          ],
          "name": "stdout"
        }
      ]
    },
    {
      "cell_type": "code",
      "metadata": {
        "id": "_Uw82jSvCt9z",
        "colab_type": "code",
        "colab": {
          "base_uri": "https://localhost:8080/",
          "height": 35
        },
        "outputId": "ace9f80d-65d9-4763-c2ec-2319c2a9f802"
      },
      "source": [
        "!git checkout -b  remotes/origin/elmo_weighted_w_special_tokens_to_lstm_mlp"
      ],
      "execution_count": 5,
      "outputs": [
        {
          "output_type": "stream",
          "text": [
            "Switched to a new branch 'remotes/origin/elmo_weighted_w_special_tokens_to_lstm_mlp'\n"
          ],
          "name": "stdout"
        }
      ]
    },
    {
      "cell_type": "code",
      "metadata": {
        "id": "f6mDCH5FCxoK",
        "colab_type": "code",
        "colab": {
          "base_uri": "https://localhost:8080/",
          "height": 3124
        },
        "outputId": "4e9a1631-8099-47fd-9602-35335a77d053"
      },
      "source": [
        "!pip install -e /content/tupa"
      ],
      "execution_count": 6,
      "outputs": [
        {
          "output_type": "stream",
          "text": [
            "Obtaining file:///content/tupa\n",
            "Collecting allennlp (from TUPA==1.3.9)\n",
            "\u001b[?25l  Downloading https://files.pythonhosted.org/packages/30/8c/72b14d20c9cbb0306939ea41109fc599302634fd5c59ccba1a659b7d0360/allennlp-0.8.4-py3-none-any.whl (5.7MB)\n",
            "\u001b[K     |████████████████████████████████| 5.7MB 2.7MB/s \n",
            "\u001b[?25hRequirement already satisfied: numpy>=1.15.0 in /usr/local/lib/python3.6/dist-packages (from TUPA==1.3.9) (1.16.4)\n",
            "Requirement already satisfied: cython>=0.29 in /usr/local/lib/python3.6/dist-packages (from TUPA==1.3.9) (0.29.9)\n",
            "Requirement already satisfied: tqdm>=4.28.1 in /usr/local/lib/python3.6/dist-packages (from TUPA==1.3.9) (4.28.1)\n",
            "Collecting configargparse>=0.13.0 (from TUPA==1.3.9)\n",
            "  Downloading https://files.pythonhosted.org/packages/55/ea/f0ade52790bcd687127a302b26c1663bf2e0f23210d5281dbfcd1dfcda28/ConfigArgParse-0.14.0.tar.gz\n",
            "Collecting ucca<1.2,>=1.1.7 (from TUPA==1.3.9)\n",
            "\u001b[?25l  Downloading https://files.pythonhosted.org/packages/c3/29/cfa66a6886066a7778072417f0f3a05654d2436ad462962453e0c0715d6b/UCCA-1.1.7-py3-none-any.whl (140kB)\n",
            "\u001b[K     |████████████████████████████████| 143kB 40.7MB/s \n",
            "\u001b[?25hCollecting semstr[amr]==1.1.10 (from TUPA==1.3.9)\n",
            "\u001b[?25l  Downloading https://files.pythonhosted.org/packages/49/b4/5ca400e7fcb6953af1399772366aae931f6bd3ffd8f3073c3cd1a2ad9a70/SEMSTR-1.1.10-py3-none-any.whl (220kB)\n",
            "\u001b[K     |████████████████████████████████| 225kB 42.6MB/s \n",
            "\u001b[?25hCollecting dynet==2.1 (from TUPA==1.3.9)\n",
            "\u001b[?25l  Downloading https://files.pythonhosted.org/packages/88/f0/01a561a301a8ea9aea1c28f82e108c38cd103964c7a46286ab01757a4092/dyNET-2.1-cp36-cp36m-manylinux1_x86_64.whl (28.1MB)\n",
            "\u001b[K     |████████████████████████████████| 28.1MB 2.2MB/s \n",
            "\u001b[?25hCollecting logbook==1.4.3 (from TUPA==1.3.9)\n",
            "\u001b[?25l  Downloading https://files.pythonhosted.org/packages/f6/83/20fc0270614919cb799f76e32cf143a54c58ce2fa45c19fd38ac2e4f9977/Logbook-1.4.3.tar.gz (85kB)\n",
            "\u001b[K     |████████████████████████████████| 92kB 25.8MB/s \n",
            "\u001b[?25hCollecting responses>=0.7 (from allennlp->TUPA==1.3.9)\n",
            "  Downloading https://files.pythonhosted.org/packages/d1/5a/b887e89925f1de7890ef298a74438371ed4ed29b33def9e6d02dc6036fd8/responses-0.10.6-py2.py3-none-any.whl\n",
            "Requirement already satisfied: editdistance in /usr/local/lib/python3.6/dist-packages (from allennlp->TUPA==1.3.9) (0.5.3)\n",
            "Requirement already satisfied: flask>=1.0.2 in /usr/local/lib/python3.6/dist-packages (from allennlp->TUPA==1.3.9) (1.0.3)\n",
            "Requirement already satisfied: gevent>=1.3.6 in /usr/local/lib/python3.6/dist-packages (from allennlp->TUPA==1.3.9) (1.4.0)\n",
            "Requirement already satisfied: requests>=2.18 in /usr/local/lib/python3.6/dist-packages (from allennlp->TUPA==1.3.9) (2.21.0)\n",
            "Requirement already satisfied: matplotlib>=2.2.3 in /usr/local/lib/python3.6/dist-packages (from allennlp->TUPA==1.3.9) (3.0.3)\n",
            "Collecting overrides (from allennlp->TUPA==1.3.9)\n",
            "  Downloading https://files.pythonhosted.org/packages/de/55/3100c6d14c1ed177492fcf8f07c4a7d2d6c996c0a7fc6a9a0a41308e7eec/overrides-1.9.tar.gz\n",
            "Requirement already satisfied: h5py in /usr/local/lib/python3.6/dist-packages (from allennlp->TUPA==1.3.9) (2.8.0)\n",
            "Requirement already satisfied: sqlparse>=0.2.4 in /usr/local/lib/python3.6/dist-packages (from allennlp->TUPA==1.3.9) (0.3.0)\n",
            "Requirement already satisfied: pytz>=2017.3 in /usr/local/lib/python3.6/dist-packages (from allennlp->TUPA==1.3.9) (2018.9)\n",
            "Collecting word2number>=1.1 (from allennlp->TUPA==1.3.9)\n",
            "  Downloading https://files.pythonhosted.org/packages/4a/29/a31940c848521f0725f0df6b25dca8917f13a2025b0e8fcbe5d0457e45e6/word2number-1.1.zip\n",
            "Collecting jsonnet>=0.10.0; sys_platform != \"win32\" (from allennlp->TUPA==1.3.9)\n",
            "\u001b[?25l  Downloading https://files.pythonhosted.org/packages/60/dc/3abd3971869a741d7acdba166d71d4f9366b6b53028dfd56f95de356af0f/jsonnet-0.12.1.tar.gz (240kB)\n",
            "\u001b[K     |████████████████████████████████| 245kB 40.0MB/s \n",
            "\u001b[?25hCollecting awscli>=1.11.91 (from allennlp->TUPA==1.3.9)\n",
            "\u001b[?25l  Downloading https://files.pythonhosted.org/packages/ae/df/edd5e30bd7b7e6ffc541f44b922424d947be06b56fceb0d414b4164268ab/awscli-1.16.169-py2.py3-none-any.whl (1.6MB)\n",
            "\u001b[K     |████████████████████████████████| 1.6MB 34.9MB/s \n",
            "\u001b[?25hCollecting numpydoc>=0.8.0 (from allennlp->TUPA==1.3.9)\n",
            "  Downloading https://files.pythonhosted.org/packages/6a/f3/7cfe4c616e4b9fe05540256cc9c6661c052c8a4cec2915732793b36e1843/numpydoc-0.9.1.tar.gz\n",
            "Requirement already satisfied: scipy in /usr/local/lib/python3.6/dist-packages (from allennlp->TUPA==1.3.9) (1.3.0)\n",
            "Collecting flaky (from allennlp->TUPA==1.3.9)\n",
            "  Downloading https://files.pythonhosted.org/packages/02/42/cca66659a786567c8af98587d66d75e7d2b6e65662f8daab75db708ac35b/flaky-3.5.3-py2.py3-none-any.whl\n",
            "Collecting jsonpickle (from allennlp->TUPA==1.3.9)\n",
            "  Downloading https://files.pythonhosted.org/packages/07/07/c157520a3ebd166c8c24c6ae0ecae7c3968eb4653ff0e5af369bb82f004d/jsonpickle-1.2-py2.py3-none-any.whl\n",
            "Collecting tensorboardX>=1.2 (from allennlp->TUPA==1.3.9)\n",
            "\u001b[?25l  Downloading https://files.pythonhosted.org/packages/a2/57/2f0a46538295b8e7f09625da6dd24c23f9d0d7ef119ca1c33528660130d5/tensorboardX-1.7-py2.py3-none-any.whl (238kB)\n",
            "\u001b[K     |████████████████████████████████| 245kB 41.4MB/s \n",
            "\u001b[?25hCollecting ftfy (from allennlp->TUPA==1.3.9)\n",
            "\u001b[?25l  Downloading https://files.pythonhosted.org/packages/8f/86/df789c5834f15ae1ca53a8d4c1fc4788676c2e32112f6a786f2625d9c6e6/ftfy-5.5.1-py3-none-any.whl (43kB)\n",
            "\u001b[K     |████████████████████████████████| 51kB 10.9MB/s \n",
            "\u001b[?25hRequirement already satisfied: pytest in /usr/local/lib/python3.6/dist-packages (from allennlp->TUPA==1.3.9) (3.6.4)\n",
            "Requirement already satisfied: spacy<2.2,>=2.0.18 in /usr/local/lib/python3.6/dist-packages (from allennlp->TUPA==1.3.9) (2.1.3)\n",
            "Requirement already satisfied: torch>=0.4.1 in /usr/local/lib/python3.6/dist-packages (from allennlp->TUPA==1.3.9) (1.1.0)\n",
            "Collecting conllu==0.11 (from allennlp->TUPA==1.3.9)\n",
            "  Downloading https://files.pythonhosted.org/packages/d4/2c/856344d9b69baf5b374c395b4286626181a80f0c2b2f704914d18a1cea47/conllu-0.11-py2.py3-none-any.whl\n",
            "Collecting unidecode (from allennlp->TUPA==1.3.9)\n",
            "\u001b[?25l  Downloading https://files.pythonhosted.org/packages/31/39/53096f9217b057cb049fe872b7fc7ce799a1a89b76cf917d9639e7a558b5/Unidecode-1.0.23-py2.py3-none-any.whl (237kB)\n",
            "\u001b[K     |████████████████████████████████| 245kB 45.3MB/s \n",
            "\u001b[?25hCollecting parsimonious>=0.8.0 (from allennlp->TUPA==1.3.9)\n",
            "\u001b[?25l  Downloading https://files.pythonhosted.org/packages/02/fc/067a3f89869a41009e1a7cdfb14725f8ddd246f30f63c645e8ef8a1c56f4/parsimonious-0.8.1.tar.gz (45kB)\n",
            "\u001b[K     |████████████████████████████████| 51kB 19.7MB/s \n",
            "\u001b[?25hCollecting pytorch-pretrained-bert>=0.6.0 (from allennlp->TUPA==1.3.9)\n",
            "\u001b[?25l  Downloading https://files.pythonhosted.org/packages/d7/e0/c08d5553b89973d9a240605b9c12404bcf8227590de62bae27acbcfe076b/pytorch_pretrained_bert-0.6.2-py3-none-any.whl (123kB)\n",
            "\u001b[K     |████████████████████████████████| 133kB 42.7MB/s \n",
            "\u001b[?25hRequirement already satisfied: boto3 in /usr/local/lib/python3.6/dist-packages (from allennlp->TUPA==1.3.9) (1.9.157)\n",
            "Requirement already satisfied: scikit-learn in /usr/local/lib/python3.6/dist-packages (from allennlp->TUPA==1.3.9) (0.21.2)\n",
            "Collecting flask-cors>=3.0.7 (from allennlp->TUPA==1.3.9)\n",
            "  Downloading https://files.pythonhosted.org/packages/65/cb/683f71ff8daa3aea0a5cbb276074de39f9ab66d3fbb8ad5efb5bb83e90d2/Flask_Cors-3.0.7-py2.py3-none-any.whl\n",
            "Requirement already satisfied: nltk in /usr/local/lib/python3.6/dist-packages (from allennlp->TUPA==1.3.9) (3.2.5)\n",
            "Collecting smatch==1.0.1; extra == \"amr\" (from semstr[amr]==1.1.10->TUPA==1.3.9)\n",
            "  Downloading https://files.pythonhosted.org/packages/57/40/39e496890f70ff3e615094cbc4b2381532bac0dbe0239509dfa9cab01b31/smatch-1.0.1.tar.gz\n",
            "Collecting pyspotlight==0.7.2; extra == \"amr\" (from semstr[amr]==1.1.10->TUPA==1.3.9)\n",
            "  Downloading https://files.pythonhosted.org/packages/c5/4b/8d892815fb3b1dbc27531d4e9d5e98603acdbb4affa72ed933516d78cebe/pyspotlight-0.7.2-py2.py3-none-any.whl\n",
            "Collecting penman==0.6.2; extra == \"amr\" (from semstr[amr]==1.1.10->TUPA==1.3.9)\n",
            "  Downloading https://files.pythonhosted.org/packages/95/c9/bcd6ecbc1e204d83c35b2986361e71ccbac9f4dd5ddbf4a806772aab433d/Penman-0.6.2-py2.py3-none-any.whl\n",
            "Requirement already satisfied: six in /usr/local/lib/python3.6/dist-packages (from responses>=0.7->allennlp->TUPA==1.3.9) (1.12.0)\n",
            "Requirement already satisfied: click>=5.1 in /usr/local/lib/python3.6/dist-packages (from flask>=1.0.2->allennlp->TUPA==1.3.9) (7.0)\n",
            "Requirement already satisfied: Jinja2>=2.10 in /usr/local/lib/python3.6/dist-packages (from flask>=1.0.2->allennlp->TUPA==1.3.9) (2.10.1)\n",
            "Requirement already satisfied: itsdangerous>=0.24 in /usr/local/lib/python3.6/dist-packages (from flask>=1.0.2->allennlp->TUPA==1.3.9) (1.1.0)\n",
            "Requirement already satisfied: Werkzeug>=0.14 in /usr/local/lib/python3.6/dist-packages (from flask>=1.0.2->allennlp->TUPA==1.3.9) (0.15.4)\n",
            "Requirement already satisfied: greenlet>=0.4.14; platform_python_implementation == \"CPython\" in /usr/local/lib/python3.6/dist-packages (from gevent>=1.3.6->allennlp->TUPA==1.3.9) (0.4.15)\n",
            "Requirement already satisfied: idna<2.9,>=2.5 in /usr/local/lib/python3.6/dist-packages (from requests>=2.18->allennlp->TUPA==1.3.9) (2.8)\n",
            "Requirement already satisfied: urllib3<1.25,>=1.21.1 in /usr/local/lib/python3.6/dist-packages (from requests>=2.18->allennlp->TUPA==1.3.9) (1.24.3)\n",
            "Requirement already satisfied: certifi>=2017.4.17 in /usr/local/lib/python3.6/dist-packages (from requests>=2.18->allennlp->TUPA==1.3.9) (2019.3.9)\n",
            "Requirement already satisfied: chardet<3.1.0,>=3.0.2 in /usr/local/lib/python3.6/dist-packages (from requests>=2.18->allennlp->TUPA==1.3.9) (3.0.4)\n",
            "Requirement already satisfied: cycler>=0.10 in /usr/local/lib/python3.6/dist-packages (from matplotlib>=2.2.3->allennlp->TUPA==1.3.9) (0.10.0)\n",
            "Requirement already satisfied: python-dateutil>=2.1 in /usr/local/lib/python3.6/dist-packages (from matplotlib>=2.2.3->allennlp->TUPA==1.3.9) (2.5.3)\n",
            "Requirement already satisfied: pyparsing!=2.0.4,!=2.1.2,!=2.1.6,>=2.0.1 in /usr/local/lib/python3.6/dist-packages (from matplotlib>=2.2.3->allennlp->TUPA==1.3.9) (2.4.0)\n",
            "Requirement already satisfied: kiwisolver>=1.0.1 in /usr/local/lib/python3.6/dist-packages (from matplotlib>=2.2.3->allennlp->TUPA==1.3.9) (1.1.0)\n",
            "Collecting botocore==1.12.159 (from awscli>=1.11.91->allennlp->TUPA==1.3.9)\n",
            "\u001b[?25l  Downloading https://files.pythonhosted.org/packages/52/bb/113f5083f145c41750d5b6f171a76c20f2e2b55a7bd9d02f55e849559619/botocore-1.12.159-py2.py3-none-any.whl (5.5MB)\n",
            "\u001b[K     |████████████████████████████████| 5.5MB 28.6MB/s \n",
            "\u001b[?25hCollecting colorama<=0.3.9,>=0.2.5 (from awscli>=1.11.91->allennlp->TUPA==1.3.9)\n",
            "  Downloading https://files.pythonhosted.org/packages/db/c8/7dcf9dbcb22429512708fe3a547f8b6101c0d02137acbd892505aee57adf/colorama-0.3.9-py2.py3-none-any.whl\n",
            "Requirement already satisfied: PyYAML<=3.13,>=3.10 in /usr/local/lib/python3.6/dist-packages (from awscli>=1.11.91->allennlp->TUPA==1.3.9) (3.13)\n",
            "Requirement already satisfied: s3transfer<0.3.0,>=0.2.0 in /usr/local/lib/python3.6/dist-packages (from awscli>=1.11.91->allennlp->TUPA==1.3.9) (0.2.0)\n",
            "Requirement already satisfied: docutils>=0.10 in /usr/local/lib/python3.6/dist-packages (from awscli>=1.11.91->allennlp->TUPA==1.3.9) (0.14)\n",
            "Collecting rsa<=3.5.0,>=3.1.2 (from awscli>=1.11.91->allennlp->TUPA==1.3.9)\n",
            "\u001b[?25l  Downloading https://files.pythonhosted.org/packages/e1/ae/baedc9cb175552e95f3395c43055a6a5e125ae4d48a1d7a924baca83e92e/rsa-3.4.2-py2.py3-none-any.whl (46kB)\n",
            "\u001b[K     |████████████████████████████████| 51kB 18.3MB/s \n",
            "\u001b[?25hRequirement already satisfied: sphinx>=1.6.5 in /usr/local/lib/python3.6/dist-packages (from numpydoc>=0.8.0->allennlp->TUPA==1.3.9) (1.8.5)\n",
            "Requirement already satisfied: protobuf>=3.2.0 in /usr/local/lib/python3.6/dist-packages (from tensorboardX>=1.2->allennlp->TUPA==1.3.9) (3.7.1)\n",
            "Requirement already satisfied: wcwidth in /usr/local/lib/python3.6/dist-packages (from ftfy->allennlp->TUPA==1.3.9) (0.1.7)\n",
            "Requirement already satisfied: more-itertools>=4.0.0 in /usr/local/lib/python3.6/dist-packages (from pytest->allennlp->TUPA==1.3.9) (7.0.0)\n",
            "Requirement already satisfied: setuptools in /usr/local/lib/python3.6/dist-packages (from pytest->allennlp->TUPA==1.3.9) (41.0.1)\n",
            "Requirement already satisfied: atomicwrites>=1.0 in /usr/local/lib/python3.6/dist-packages (from pytest->allennlp->TUPA==1.3.9) (1.3.0)\n",
            "Requirement already satisfied: pluggy<0.8,>=0.5 in /usr/local/lib/python3.6/dist-packages (from pytest->allennlp->TUPA==1.3.9) (0.7.1)\n",
            "Requirement already satisfied: py>=1.5.0 in /usr/local/lib/python3.6/dist-packages (from pytest->allennlp->TUPA==1.3.9) (1.8.0)\n",
            "Requirement already satisfied: attrs>=17.4.0 in /usr/local/lib/python3.6/dist-packages (from pytest->allennlp->TUPA==1.3.9) (19.1.0)\n",
            "Requirement already satisfied: thinc<7.1.0,>=7.0.2 in /usr/local/lib/python3.6/dist-packages (from spacy<2.2,>=2.0.18->allennlp->TUPA==1.3.9) (7.0.4)\n",
            "Requirement already satisfied: cymem<2.1.0,>=2.0.2 in /usr/local/lib/python3.6/dist-packages (from spacy<2.2,>=2.0.18->allennlp->TUPA==1.3.9) (2.0.2)\n",
            "Requirement already satisfied: plac<1.0.0,>=0.9.6 in /usr/local/lib/python3.6/dist-packages (from spacy<2.2,>=2.0.18->allennlp->TUPA==1.3.9) (0.9.6)\n",
            "Requirement already satisfied: wasabi<1.1.0,>=0.2.0 in /usr/local/lib/python3.6/dist-packages (from spacy<2.2,>=2.0.18->allennlp->TUPA==1.3.9) (0.2.2)\n",
            "Requirement already satisfied: jsonschema<3.0.0,>=2.6.0 in /usr/local/lib/python3.6/dist-packages (from spacy<2.2,>=2.0.18->allennlp->TUPA==1.3.9) (2.6.0)\n",
            "Requirement already satisfied: blis<0.3.0,>=0.2.2 in /usr/local/lib/python3.6/dist-packages (from spacy<2.2,>=2.0.18->allennlp->TUPA==1.3.9) (0.2.4)\n",
            "Requirement already satisfied: srsly<1.1.0,>=0.0.5 in /usr/local/lib/python3.6/dist-packages (from spacy<2.2,>=2.0.18->allennlp->TUPA==1.3.9) (0.0.5)\n",
            "Requirement already satisfied: preshed<2.1.0,>=2.0.1 in /usr/local/lib/python3.6/dist-packages (from spacy<2.2,>=2.0.18->allennlp->TUPA==1.3.9) (2.0.1)\n",
            "Requirement already satisfied: murmurhash<1.1.0,>=0.28.0 in /usr/local/lib/python3.6/dist-packages (from spacy<2.2,>=2.0.18->allennlp->TUPA==1.3.9) (1.0.2)\n",
            "Requirement already satisfied: regex in /usr/local/lib/python3.6/dist-packages (from pytorch-pretrained-bert>=0.6.0->allennlp->TUPA==1.3.9) (2018.1.10)\n",
            "Requirement already satisfied: jmespath<1.0.0,>=0.7.1 in /usr/local/lib/python3.6/dist-packages (from boto3->allennlp->TUPA==1.3.9) (0.9.4)\n",
            "Requirement already satisfied: joblib>=0.11 in /usr/local/lib/python3.6/dist-packages (from scikit-learn->allennlp->TUPA==1.3.9) (0.13.2)\n",
            "Requirement already satisfied: docopt>=0.6.0 in /usr/local/lib/python3.6/dist-packages (from penman==0.6.2; extra == \"amr\"->semstr[amr]==1.1.10->TUPA==1.3.9) (0.6.2)\n",
            "Requirement already satisfied: MarkupSafe>=0.23 in /usr/local/lib/python3.6/dist-packages (from Jinja2>=2.10->flask>=1.0.2->allennlp->TUPA==1.3.9) (1.1.1)\n",
            "Requirement already satisfied: pyasn1>=0.1.3 in /usr/local/lib/python3.6/dist-packages (from rsa<=3.5.0,>=3.1.2->awscli>=1.11.91->allennlp->TUPA==1.3.9) (0.4.5)\n",
            "Requirement already satisfied: Pygments>=2.0 in /usr/local/lib/python3.6/dist-packages (from sphinx>=1.6.5->numpydoc>=0.8.0->allennlp->TUPA==1.3.9) (2.1.3)\n",
            "Requirement already satisfied: alabaster<0.8,>=0.7 in /usr/local/lib/python3.6/dist-packages (from sphinx>=1.6.5->numpydoc>=0.8.0->allennlp->TUPA==1.3.9) (0.7.12)\n",
            "Requirement already satisfied: snowballstemmer>=1.1 in /usr/local/lib/python3.6/dist-packages (from sphinx>=1.6.5->numpydoc>=0.8.0->allennlp->TUPA==1.3.9) (1.2.1)\n",
            "Requirement already satisfied: imagesize in /usr/local/lib/python3.6/dist-packages (from sphinx>=1.6.5->numpydoc>=0.8.0->allennlp->TUPA==1.3.9) (1.1.0)\n",
            "Requirement already satisfied: babel!=2.0,>=1.3 in /usr/local/lib/python3.6/dist-packages (from sphinx>=1.6.5->numpydoc>=0.8.0->allennlp->TUPA==1.3.9) (2.7.0)\n",
            "Requirement already satisfied: sphinxcontrib-websupport in /usr/local/lib/python3.6/dist-packages (from sphinx>=1.6.5->numpydoc>=0.8.0->allennlp->TUPA==1.3.9) (1.1.2)\n",
            "Requirement already satisfied: packaging in /usr/local/lib/python3.6/dist-packages (from sphinx>=1.6.5->numpydoc>=0.8.0->allennlp->TUPA==1.3.9) (19.0)\n",
            "Building wheels for collected packages: configargparse, logbook, overrides, word2number, jsonnet, numpydoc, parsimonious, smatch\n",
            "  Building wheel for configargparse (setup.py) ... \u001b[?25l\u001b[?25hdone\n",
            "  Stored in directory: /root/.cache/pip/wheels/aa/9c/ce/7e904dddb8c7595ffbe3409d24455bc5005852850e36011bda\n",
            "  Building wheel for logbook (setup.py) ... \u001b[?25l\u001b[?25hdone\n",
            "  Stored in directory: /root/.cache/pip/wheels/a2/9f/6f/8c7a4ed6b9f6f3c98b742dbb0fd41fff3c130119c507376301\n",
            "  Building wheel for overrides (setup.py) ... \u001b[?25l\u001b[?25hdone\n",
            "  Stored in directory: /root/.cache/pip/wheels/8d/52/86/e5a83b1797e7d263b458d2334edd2704c78508b3eea9323718\n",
            "  Building wheel for word2number (setup.py) ... \u001b[?25l\u001b[?25hdone\n",
            "  Stored in directory: /root/.cache/pip/wheels/46/2f/53/5f5c1d275492f2fce1cdab9a9bb12d49286dead829a4078e0e\n",
            "  Building wheel for jsonnet (setup.py) ... \u001b[?25l\u001b[?25hdone\n",
            "  Stored in directory: /root/.cache/pip/wheels/f0/47/51/a178b15274ed0db775a1ae9c799ce31e511609c3ab75a7dec5\n",
            "  Building wheel for numpydoc (setup.py) ... \u001b[?25l\u001b[?25hdone\n",
            "  Stored in directory: /root/.cache/pip/wheels/51/30/d1/92a39ba40f21cb70e53f8af96eb98f002a781843c065406500\n",
            "  Building wheel for parsimonious (setup.py) ... \u001b[?25l\u001b[?25hdone\n",
            "  Stored in directory: /root/.cache/pip/wheels/b7/8d/e7/a0e74217da5caeb3c1c7689639b6d28ddbf9985b840bc96a9a\n",
            "  Building wheel for smatch (setup.py) ... \u001b[?25l\u001b[?25hdone\n",
            "  Stored in directory: /root/.cache/pip/wheels/2e/b5/53/f081db7fb5facc19184bd983174b8d901ca9647f88e82f6657\n",
            "Successfully built configargparse logbook overrides word2number jsonnet numpydoc parsimonious smatch\n",
            "\u001b[31mERROR: ucca 1.1.7 has requirement spacy==2.0.18, but you'll have spacy 2.1.3 which is incompatible.\u001b[0m\n",
            "Installing collected packages: responses, overrides, word2number, jsonnet, botocore, colorama, rsa, awscli, numpydoc, flaky, jsonpickle, tensorboardX, ftfy, conllu, unidecode, parsimonious, pytorch-pretrained-bert, flask-cors, allennlp, configargparse, ucca, smatch, pyspotlight, penman, semstr, dynet, logbook, TUPA\n",
            "  Found existing installation: botocore 1.12.157\n",
            "    Uninstalling botocore-1.12.157:\n",
            "      Successfully uninstalled botocore-1.12.157\n",
            "  Found existing installation: rsa 4.0\n",
            "    Uninstalling rsa-4.0:\n",
            "      Successfully uninstalled rsa-4.0\n",
            "  Found existing installation: UCCA 1.2.2\n",
            "    Can't uninstall 'UCCA'. No files were found to uninstall.\n",
            "  Running setup.py develop for TUPA\n",
            "Successfully installed TUPA allennlp-0.8.4 awscli-1.16.169 botocore-1.12.159 colorama-0.3.9 configargparse-0.14.0 conllu-0.11 dynet-2.1 flaky-3.5.3 flask-cors-3.0.7 ftfy-5.5.1 jsonnet-0.12.1 jsonpickle-1.2 logbook-1.4.3 numpydoc-0.9.1 overrides-1.9 parsimonious-0.8.1 penman-0.6.2 pyspotlight-0.7.2 pytorch-pretrained-bert-0.6.2 responses-0.10.6 rsa-3.4.2 semstr-1.1.10 smatch-1.0.1 tensorboardX-1.7 ucca-1.1.7 unidecode-1.0.23 word2number-1.1\n"
          ],
          "name": "stdout"
        },
        {
          "output_type": "display_data",
          "data": {
            "application/vnd.colab-display-data+json": {
              "pip_warning": {
                "packages": [
                  "rsa"
                ]
              }
            }
          },
          "metadata": {
            "tags": []
          }
        }
      ]
    },
    {
      "cell_type": "code",
      "metadata": {
        "id": "quxhsH59EyWh",
        "colab_type": "code",
        "colab": {
          "base_uri": "https://localhost:8080/",
          "height": 237
        },
        "outputId": "2d1cdbe3-3a60-4c8c-a264-ab585a2497ca"
      },
      "source": [
        "## Note: the 'ucca-bilstm-1.3.6' model requires 'en_core_web_lg'; whereas the 'elmo_4_test_sentences_1' model requires 'en_core_web_md'\n",
        "##       (see https://stackoverflow.com/questions/50487495/what-is-difference-between-en-core-web-sm-en-core-web-mdand-en-core-web-lg-mod)\n",
        "\n",
        "#!python -m spacy download en_core_web_lg\n",
        "!python -m spacy download en_core_web_md"
      ],
      "execution_count": 7,
      "outputs": [
        {
          "output_type": "stream",
          "text": [
            "Collecting en_core_web_md==2.1.0 from https://github.com/explosion/spacy-models/releases/download/en_core_web_md-2.1.0/en_core_web_md-2.1.0.tar.gz#egg=en_core_web_md==2.1.0\n",
            "\u001b[?25l  Downloading https://github.com/explosion/spacy-models/releases/download/en_core_web_md-2.1.0/en_core_web_md-2.1.0.tar.gz (95.4MB)\n",
            "\u001b[K     |████████████████████████████████| 95.4MB 62.5MB/s \n",
            "\u001b[?25hBuilding wheels for collected packages: en-core-web-md\n",
            "  Building wheel for en-core-web-md (setup.py) ... \u001b[?25l\u001b[?25hdone\n",
            "  Stored in directory: /tmp/pip-ephem-wheel-cache-zvbkkieb/wheels/c1/2c/5f/fd7f3ec336bf97b0809c86264d2831c5dfb00fc2e239d1bb01\n",
            "Successfully built en-core-web-md\n",
            "Installing collected packages: en-core-web-md\n",
            "Successfully installed en-core-web-md-2.1.0\n",
            "\u001b[38;5;2m✔ Download and installation successful\u001b[0m\n",
            "You can now load the model via spacy.load('en_core_web_md')\n"
          ],
          "name": "stdout"
        }
      ]
    },
    {
      "cell_type": "code",
      "metadata": {
        "id": "i9VbHo4GXfeW",
        "colab_type": "code",
        "colab": {
          "base_uri": "https://localhost:8080/",
          "height": 600
        },
        "outputId": "5cf30422-e3d8-46ac-eea1-aaba2ae8d65a"
      },
      "source": [
        "# Download elmo_4_test_sentences_1\n",
        "\n",
        "!wget -O /tmp/gdrive https://docs.google.com/uc?id=0B3X9GlR6EmbnWksyTEtCM0VfaFE&export=download\n",
        "!chmod +x /tmp/gdrive\n",
        "!/tmp/gdrive download -r 1Lg2nnocplvi37TJe9rP3Tduh98urUKNx\n",
        "!mkdir models\n",
        "!mv elmo_4_test_sentences_1 models/"
      ],
      "execution_count": 8,
      "outputs": [
        {
          "output_type": "stream",
          "text": [
            "--2019-06-01 11:05:08--  https://docs.google.com/uc?id=0B3X9GlR6EmbnWksyTEtCM0VfaFE\n",
            "Resolving docs.google.com (docs.google.com)... 74.125.141.102, 74.125.141.113, 74.125.141.139, ...\n",
            "Connecting to docs.google.com (docs.google.com)|74.125.141.102|:443... connected.\n",
            "HTTP request sent, awaiting response... 302 Moved Temporarily\n",
            "Location: https://doc-0c-48-docs.googleusercontent.com/docs/securesc/ha0ro937gcuc7l7deffksulhg5h7mbp1/e8cdelre6bqoa9oa1bfv3kfnbkto9r45/1559383200000/15876260727594163214/*/0B3X9GlR6EmbnWksyTEtCM0VfaFE [following]\n",
            "Warning: wildcards not supported in HTTP.\n",
            "--2019-06-01 11:05:10--  https://doc-0c-48-docs.googleusercontent.com/docs/securesc/ha0ro937gcuc7l7deffksulhg5h7mbp1/e8cdelre6bqoa9oa1bfv3kfnbkto9r45/1559383200000/15876260727594163214/*/0B3X9GlR6EmbnWksyTEtCM0VfaFE\n",
            "Resolving doc-0c-48-docs.googleusercontent.com (doc-0c-48-docs.googleusercontent.com)... 74.125.141.132, 2607:f8b0:400c:c06::84\n",
            "Connecting to doc-0c-48-docs.googleusercontent.com (doc-0c-48-docs.googleusercontent.com)|74.125.141.132|:443... connected.\n",
            "HTTP request sent, awaiting response... 200 OK\n",
            "Length: unspecified [application/x-executable]\n",
            "Saving to: ‘/tmp/gdrive’\n",
            "\n",
            "/tmp/gdrive             [ <=>                ]   7.42M  --.-KB/s    in 0.1s    \n",
            "\n",
            "2019-06-01 11:05:11 (59.4 MB/s) - ‘/tmp/gdrive’ saved [7785024]\n",
            "\n",
            "Authentication needed\n",
            "Go to the following url in your browser:\n",
            "https://accounts.google.com/o/oauth2/auth?access_type=offline&client_id=367116221053-7n0vf5akeru7on6o2fjinrecpdoe99eg.apps.googleusercontent.com&redirect_uri=urn%3Aietf%3Awg%3Aoauth%3A2.0%3Aoob&response_type=code&scope=https%3A%2F%2Fwww.googleapis.com%2Fauth%2Fdrive&state=state\n",
            "\n",
            "Enter verification code: 4/XAHTRgbqmDHyMxn142BrDHsmIzpgBTB_qYzfhP3Xunt7RVHG2z83FJg\n",
            "Downloading elmo_4_test_sentences_1.yml -> elmo_4_test_sentences_1/elmo_4_test_sentences_1.yml\n",
            "Downloading elmo_4_test_sentences_1.enum -> elmo_4_test_sentences_1/elmo_4_test_sentences_1.enum\n",
            "Downloading elmo_4_test_sentences_1.json -> elmo_4_test_sentences_1/elmo_4_test_sentences_1.json\n",
            "Downloading elmo_4_test_sentences_1.data -> elmo_4_test_sentences_1/elmo_4_test_sentences_1.data\n",
            "Downloading elmo_4_test_sentences_1.test.csv -> elmo_4_test_sentences_1/elmo_4_test_sentences_1.test.csv\n",
            "Downloading elmo_4_test_sentences_1.dev.csv -> elmo_4_test_sentences_1/elmo_4_test_sentences_1.dev.csv\n",
            "Downloading elmo_4_test_sentences_1.nlp.json -> elmo_4_test_sentences_1/elmo_4_test_sentences_1.nlp.json\n",
            "Downloading elmo_4_test_sentences_1.meta -> elmo_4_test_sentences_1/elmo_4_test_sentences_1.meta\n",
            "Downloading elmo_4_test_sentences_1.log -> elmo_4_test_sentences_1/elmo_4_test_sentences_1.log\n"
          ],
          "name": "stdout"
        }
      ]
    },
    {
      "cell_type": "code",
      "metadata": {
        "id": "RwPXljFrC9aR",
        "colab_type": "code",
        "colab": {}
      },
      "source": [
        "# Download ucca-bilstm-1.3.6\n",
        "\n",
        "!curl -LO https://github.com/huji-nlp/tupa/releases/download/v1.3.6/ucca-bilstm-1.3.6.tar.gz\n",
        "!tar xvzf ucca-bilstm-1.3.6.tar.gz"
      ],
      "execution_count": 0,
      "outputs": []
    },
    {
      "cell_type": "code",
      "metadata": {
        "id": "SDYYNMGHDL8c",
        "colab_type": "code",
        "colab": {}
      },
      "source": [
        "%%bash \n",
        "\n",
        "cat > input << EOF\n",
        "It's generally a good approach to read instructions properly before jumping to conclusions\n",
        "EOF"
      ],
      "execution_count": 0,
      "outputs": []
    },
    {
      "cell_type": "code",
      "metadata": {
        "id": "_eWQv9ClDdLf",
        "colab_type": "code",
        "colab": {
          "base_uri": "https://localhost:8080/",
          "height": 491
        },
        "outputId": "6c3a5c7a-e55b-4e85-ea96-6835243362bf"
      },
      "source": [
        "\n",
        "##!time python -m tupa input -m models/ucca-bilstm\n",
        "!time python -m tupa input -m models/elmo_4_test_sentences_1/elmo_4_test_sentences_1"
      ],
      "execution_count": 11,
      "outputs": [
        {
          "output_type": "stream",
          "text": [
            "TUPA version 1.3.9-9-gfa3d7a2\n",
            "Loading from 'models/elmo_4_test_sentences_1/elmo_4_test_sentences_1.json'.\n",
            "[dynet] random seed: 1\n",
            "[dynet] allocating memory: 512MB\n",
            "[dynet] memory allocation done.\n",
            "/usr/local/lib/python3.6/dist-packages/sklearn/utils/linear_assignment_.py:21: DeprecationWarning: The linear_assignment_ module is deprecated in 0.21 and will be removed from 0.23. Use scipy.optimize.linear_sum_assignment instead.\n",
            "  DeprecationWarning)\n",
            "[dynet] 2.1\n",
            "100% 336/336 [00:00<00:00, 165584.08B/s]\n",
            "100% 374434792/374434792 [00:13<00:00, 28257639.62B/s]\n",
            "Loading from 'models/elmo_4_test_sentences_1/elmo_4_test_sentences_1.enum'... Done (0.085s).\n",
            "Loading model from 'models/elmo_4_test_sentences_1/elmo_4_test_sentences_1':   0% 0/17 [00:00<?, ?param/s]tcmalloc: large alloc 1610612736 bytes == 0xd9d8c000 @  0x7f158b0ee887 0x7f15899e4bf9 0x7f15899e5acb 0x7f15899e5b84 0x7f15899e5e0e 0x7f15899bde22 0x7f156dcfba10 0x7f156e58f0b0 0x7f156e58fcdf 0x566103 0x7f156e4ed81b 0x7f156e57c0cf 0x7f156e57d845 0x7f156e4edbbe 0x506ac1 0x58c9e3 0x585784 0x5859be 0x555421 0x5a730c 0x503073 0x506859 0x504c28 0x502540 0x502f3d 0x506859 0x502209 0x502f3d 0x506859 0x502209 0x502f3d\n",
            "Loading model from 'models/elmo_4_test_sentences_1/elmo_4_test_sentences_1': 24param [00:43,  1.82s/param]\n",
            "Loading model from 'models/elmo_4_test_sentences_1/elmo_4_test_sentences_1':   0% 0/24 [00:00<?, ?param/s]tcmalloc: large alloc 1610612736 bytes == 0x103d8c000 @  0x7f158b0ee887 0x7f15899e4bf9 0x7f15899e5acb 0x7f15899e5b84 0x7f15899e5e0e 0x7f15899bde22 0x7f156dcfba10 0x7f156e58f0b0 0x7f156e58fcdf 0x566103 0x7f156e4ed81b 0x7f156e57c0cf 0x7f156e57d845 0x7f156e4edbbe 0x506ac1 0x58c9e3 0x585784 0x5859be 0x555421 0x5a730c 0x503073 0x506859 0x504c28 0x502540 0x502f3d 0x506859 0x504c28 0x502540 0x502f3d 0x506859 0x502209\n",
            "Loading model from 'models/elmo_4_test_sentences_1/elmo_4_test_sentences_1': 100% 24/24 [00:42<00:00,  1.75s/param]\n",
            "Loading from 'models/elmo_4_test_sentences_1/elmo_4_test_sentences_1.nlp.json'.\n",
            "tupa input --hyperparams \"shared --lstm-layers 2\" \"amr --max-edge-labels 110 --node-label-dim 20 --max-node-labels 1000 --node-category-dim 5 --max-node-categories 25\" \"sdp --max-edge-labels 70\" \"conllu --max-edge-labels 60\" --log models/elmo_4_test_sentences_1/elmo_4_test_sentences_1.log --max-words 0 --testscores models/elmo_4_test_sentences_1/elmo_4_test_sentences_1.test.csv\n",
            "Loading spaCy model 'en_core_web_md'... Done (18.446s).\n",
            "1 passages [00:20, 20.09s/ passages, en ucca=input_0, |t/s|=0]\n",
            "Parsed 1 passages\n",
            "Total time: 20.091s (average time/passage: 20.091s, average tokens/s: 0)\n",
            "\n",
            "real\t2m22.355s\n",
            "user\t1m58.688s\n",
            "sys\t0m7.599s\n"
          ],
          "name": "stdout"
        }
      ]
    },
    {
      "cell_type": "code",
      "metadata": {
        "id": "RNnyZM5IFvXZ",
        "colab_type": "code",
        "colab": {}
      },
      "source": [
        "!git diff master origin/elmo_weighted_w_special_tokens_to_lstm_mlp"
      ],
      "execution_count": 0,
      "outputs": []
    }
  ]
}