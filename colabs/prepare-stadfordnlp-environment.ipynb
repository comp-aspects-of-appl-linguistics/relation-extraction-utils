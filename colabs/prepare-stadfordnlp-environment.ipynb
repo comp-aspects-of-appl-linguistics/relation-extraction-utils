{
  "nbformat": 4,
  "nbformat_minor": 0,
  "metadata": {
    "colab": {
      "name": "prepare-stadfordnlp-environment.ipynb",
      "version": "0.3.2",
      "provenance": [],
      "collapsed_sections": [],
      "include_colab_link": true
    },
    "kernelspec": {
      "name": "python3",
      "language": "python",
      "display_name": "Python 3"
    }
  },
  "cells": [
    {
      "cell_type": "markdown",
      "metadata": {
        "id": "view-in-github",
        "colab_type": "text",
        "pycharm": {}
      },
      "source": "\u003ca href\u003d\"https://colab.research.google.com/github/comp-aspects-of-appl-linguistics/relation-extraction-utils/blob/master/colabs/prepare-stadfordnlp-pss-environment.ipynb\" target\u003d\"_parent\"\u003e\u003cimg src\u003d\"https://colab.research.google.com/assets/colab-badge.svg\" alt\u003d\"Open In Colab\"/\u003e\u003c/a\u003e"
    },
    {
      "cell_type": "code",
      "metadata": {
        "id": "Q_o2-6PePgni",
        "colab_type": "code",
        "colab": {},
        "pycharm": {}
      },
      "source": "#### PRERATIONS:\n\n# STEP 1: ensure \u0027relation_extraction_utils\u0027 is installed - as stanfordnlp is \n#         a dependency of \u0027relation_extraction_utils\u0027 it will be installed if \n#         necessary.\n#         Additionally, stanfordnlp_resources are downloaded if nt alread present\n!pip install git+https://github.com/comp-aspects-of-appl-linguistics/relation_extraction_utils.git\n\nimport os\nimport stanfordnlp\n\nif not os.path.exists(\u0027/root/stanfordnlp_resources\u0027):\n  stanfordnlp.download(\u0027en\u0027, force\u003dTrue)\n\n  \n# STEP 2: we\u0027ll need to access Google Drive to fetch the \u0027train.json\u0027 file -\n#         at the end of the next snippet will be promted to click a link from\n#         which the user will be able to generate an Oath token to be copied \n#         at the prompt\n  \n!pip install PyDrive\n\nfrom pydrive.auth import GoogleAuth\nfrom pydrive.drive import GoogleDrive\nfrom google.colab import auth\nfrom oauth2client.client import GoogleCredentials\n\n\n# Authenticate and create the PyDrive client.\nauth.authenticate_user()\ngauth \u003d GoogleAuth()\ngauth.credentials \u003d GoogleCredentials.get_application_default()\ndrive \u003d GoogleDrive(gauth)\n\n\n# NOTE: The id of the file assigned to \u0027train.json\u0027 may change\ndrive_id_for_train_json_file\u003d\u00271nPpp1zs3_0rkPkCvuz-dSK4YygxO6lw1\u0027\n\n# get the file into our current environment\u0027s file system\ndownloaded \u003d drive.CreateFile({\u0027id\u0027:drive_id_for_train_json_file}) \ndownloaded.GetContentFile(\u0027train.json\u0027)  \n",
      "execution_count": 0,
      "outputs": []
    }
  ]
}