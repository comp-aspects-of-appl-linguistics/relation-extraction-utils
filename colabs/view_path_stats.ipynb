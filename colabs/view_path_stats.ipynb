{
  "cells": [
    {
      "cell_type": "markdown",
      "metadata": {
        "id": "view-in-github",
        "colab_type": "text",
        "pycharm": {}
      },
      "source": "\u003ca href\u003d\"https://colab.research.google.com/github/comp-aspects-of-appl-linguistics/relation-extraction-utils/blob/master/colabs/view_path_stats.ipynb\" target\u003d\"_parent\"\u003e\u003cimg src\u003d\"https://colab.research.google.com/assets/colab-badge.svg\" alt\u003d\"Open In Colab\"/\u003e\u003c/a\u003e"
    },
    {
      "cell_type": "code",
      "execution_count": null,
      "metadata": {
        "id": "-40enUPOfxqx",
        "colab_type": "code",
        "colab": {
          "base_uri": "https://localhost:8080/",
          "height": 181
        },
        "outputId": "bb521681-c74c-43ea-ad1f-032da4893561",
        "pycharm": {}
      },
      "outputs": [],
      "source": [
        "# executing pip with the --no-deps flag, as we don\u0027t need the stanfordnlp dependency to run the count trigger paths\n",
        "# (thats because the dependencies already appear in the cvs input file)\n",
        "!pip install -U --no-deps git+https://github.com/comp-aspects-of-appl-linguistics/relation_extraction_utils.git"
      ]
    },
    {
      "cell_type": "code",
      "execution_count": null,
      "metadata": {
        "id": "UhGfZesIg3oB",
        "colab_type": "code",
        "colab": {
          "resources": {},
          "base_uri": "https://localhost:8080/",
          "height": 93
        },
        "outputId": "28afaea3-04c8-4b53-ffac-c5917128e397",
        "pycharm": {}
      },
      "outputs": [],
      "source": [
        "from google.colab import files\n",
        "\n",
        "files.upload()"
      ]
    },
    {
      "cell_type": "code",
      "execution_count": null,
      "metadata": {
        "id": "PGOIwmWk-YJA",
        "colab_type": "code",
        "colab": {},
        "pycharm": {}
      },
      "outputs": [],
      "source": [
        "from count_trigger_paths.path_stats import PathStats, PathDesignation\n",
        "\n",
        "pathstats \u003d PathStats(\u0027./per_employee_of.csv\u0027)"
      ]
    },
    {
      "metadata": {
        "id": "J2IMW_Zm9S52",
        "colab_type": "code",
        "outputId": "8019b9e1-7187-4bdd-f307-256c28b636b6",
        "colab": {
          "base_uri": "https://localhost:8080/",
          "height": 1829
        },
        "pycharm": {}
      },
      "cell_type": "code",
      "source": [
        "%matplotlib inline\n",
        "\n",
        "import matplotlib.pyplot as plot\n",
        "\n",
        "for path_designation in PathDesignation:\n",
        "    stats \u003d pathstats.get_sorted_stats(path_designation)\n",
        "\n",
        "    plot.figure( figsize\u003d(12, 10) )\n",
        "    plot.title(path_designation.value)\n",
        "    plot.xlabel(\u0027frequency\u0027)\n",
        "    plot.ylabel(\u0027path\u0027)\n",
        "    plot.barh([path for _, path in stats], [frequency for frequency, _ in stats])\n",
        "\n",
        "plot.show()"
      ],
      "execution_count": null,
      "outputs": []
    }
  ],
  "metadata": {
    "colab": {
      "name": "view_path_stats.ipynb",
      "version": "0.3.2",
      "provenance": [],
      "collapsed_sections": [],
      "include_colab_link": true
    },
    "kernelspec": {
      "name": "python3",
      "language": "python",
      "display_name": "Python 3"
    }
  },
  "nbformat": 4,
  "nbformat_minor": 0
}